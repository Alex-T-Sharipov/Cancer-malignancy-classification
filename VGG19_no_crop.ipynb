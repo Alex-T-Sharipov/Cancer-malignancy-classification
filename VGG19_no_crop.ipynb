{
  "cells": [
    {
      "cell_type": "code",
      "execution_count": 1,
      "metadata": {
        "id": "ttZ16wFrjC1p"
      },
      "outputs": [],
      "source": [
        "import math\n",
        "import numpy as np\n",
        "import pandas as pd\n",
        "import matplotlib.pyplot as plt\n",
        "import matplotlib.image as mpimg\n",
        "import pickle\n",
        "import os\n",
        "import tensorflow as tf\n",
        "import sys\n",
        "from sklearn.model_selection import train_test_split\n",
        "from tensorflow.keras.models import Sequential\n",
        "from tensorflow import keras\n",
        "from tensorflow.keras.layers import *\n",
        "from tensorflow.keras.preprocessing.image import ImageDataGenerator\n",
        "from tensorflow.keras import backend as k"
      ]
    },
    {
      "cell_type": "code",
      "execution_count": 2,
      "metadata": {
        "colab": {
          "base_uri": "https://localhost:8080/"
        },
        "id": "MfLMd4iTlvDq",
        "outputId": "39154439-99d2-4875-8188-df0e1d85f2c3"
      },
      "outputs": [
        {
          "output_type": "stream",
          "name": "stdout",
          "text": [
            "Mounted at /content/drive\n"
          ]
        }
      ],
      "source": [
        "from google.colab import drive\n",
        "drive.mount('/content/drive')\n",
        "path = '/content/drive/MyDrive/376_project/newcancerdata/'\n",
        "oldpath = '/content/drive/MyDrive/376_project/cancerdata'\n",
        "BATCH_SIZE = 64"
      ]
    },
    {
      "cell_type": "code",
      "execution_count": 3,
      "metadata": {
        "colab": {
          "base_uri": "https://localhost:8080/"
        },
        "id": "juKkjPtul2PR",
        "outputId": "6a44835f-fe6f-4914-8c53-f26b90d98582"
      },
      "outputs": [
        {
          "output_type": "stream",
          "name": "stdout",
          "text": [
            "(10000, 3)\n"
          ]
        },
        {
          "output_type": "execute_result",
          "data": {
            "text/plain": [
              "<bound method NDFrame.head of        index                                            id label\n",
              "0         17  0003378267bd3d9964d701ff9e52ddce1b027e46.tif     0\n",
              "1         49  000af35befdd9ab2e24fac80fb6508dfd1edd172.tif     1\n",
              "2         66  0011a007b64a4a0f351ee4d7d00f237b1713b9bf.tif     0\n",
              "3        160  002cf4e8faa1b238d67b3066fbeb382d128bc6e9.tif     0\n",
              "4        183  0033eb6f1ae535166311e5837b006cba336e9200.tif     0\n",
              "...      ...                                           ...   ...\n",
              "9995  219929  ffe4b21fe0e2e13c677a0508aaa2717a0cf2ba08.tif     0\n",
              "9996  219957  ffec122459ed1be2cb4a94009c115113a992813d.tif     0\n",
              "9997  219958  ffec4a03e0a1b8d70e2bab767ac0f1803519e71a.tif     1\n",
              "9998  219981  fff2b1244d1d9492ba0950f3221628add0e1cbd4.tif     0\n",
              "9999  219986  fff3cf6f5992363edf773aa539a98679aad19180.tif     0\n",
              "\n",
              "[10000 rows x 3 columns]>"
            ]
          },
          "metadata": {},
          "execution_count": 3
        }
      ],
      "source": [
        "data = pd.read_csv('/content/drive/MyDrive/376_project/labels.csv', dtype=str)\n",
        "data.id = data.id + '.tif'\n",
        "print(data.shape)\n",
        "data.head\n"
      ]
    },
    {
      "cell_type": "code",
      "execution_count": 4,
      "metadata": {
        "colab": {
          "base_uri": "https://localhost:8080/"
        },
        "id": "p_xLY4CemaEm",
        "outputId": "fc4f48d5-6001-438e-b4d1-2e8a62ec058a"
      },
      "outputs": [
        {
          "output_type": "stream",
          "name": "stdout",
          "text": [
            "Total number of examples in training set : 8000\n",
            "Total number of examples in validation set : 1000\n",
            "Total number of examples in test set : 1000\n"
          ]
        }
      ],
      "source": [
        "train, val_test = train_test_split(data, train_size=0.8, random_state=376, shuffle=True)\n",
        "val, test = train_test_split(val_test, train_size=0.5, random_state=376, shuffle=True)\n",
        "\n",
        "print(f\"Total number of examples in training set : {train.shape[0]}\")\n",
        "print(f\"Total number of examples in validation set : {val.shape[0]}\")\n",
        "print(f\"Total number of examples in test set : {test.shape[0]}\")"
      ]
    },
    {
      "cell_type": "code",
      "execution_count": 5,
      "metadata": {
        "id": "Sq64rVarmh4p"
      },
      "outputs": [],
      "source": [
        "train_datagen = ImageDataGenerator(rescale=1/255,\n",
        "                                   rotation_range=45,\n",
        "                                   vertical_flip=True,\n",
        "                                   horizontal_flip=True,\n",
        "                                   width_shift_range=0.3,\n",
        "                                   height_shift_range=0.3,\n",
        "                                   dtype=tf.float32)\n",
        "val_datagen = ImageDataGenerator(rescale=1/255,\n",
        "                                 dtype=tf.float32)\n",
        "test_datagen = ImageDataGenerator(rescale=1/255,\n",
        "                                  dtype=tf.float32)"
      ]
    },
    {
      "cell_type": "code",
      "execution_count": 6,
      "metadata": {
        "colab": {
          "base_uri": "https://localhost:8080/"
        },
        "id": "br_jJe2mqZfX",
        "outputId": "d60b4b89-1168-4f9f-de4e-f5a87766de71"
      },
      "outputs": [
        {
          "output_type": "stream",
          "name": "stdout",
          "text": [
            "Found 8000 validated image filenames belonging to 2 classes.\n",
            "Found 1000 validated image filenames belonging to 2 classes.\n",
            "Found 1000 validated image filenames belonging to 2 classes.\n"
          ]
        }
      ],
      "source": [
        "train_loader = train_datagen.flow_from_dataframe(dataframe=train,\n",
        "                                                 directory=oldpath,\n",
        "                                                 x_col='id',\n",
        "                                                 y_col='label',\n",
        "                                                 batch_size=BATCH_SIZE,\n",
        "                                                 seed=376,\n",
        "                                                 shuffle=True,\n",
        "                                                 class_mode='categorical',\n",
        "                                                 target_size=(96,96))\n",
        "\n",
        "val_loader = val_datagen.flow_from_dataframe(dataframe=val,\n",
        "                                             directory=oldpath,\n",
        "                                             x_col='id',\n",
        "                                             y_col='label',\n",
        "                                             batch_size=BATCH_SIZE,\n",
        "                                             seed=376,\n",
        "                                             shuffle=True,\n",
        "                                             class_mode='categorical',\n",
        "                                             target_size=(96,96))\n",
        "\n",
        "test_loader = test_datagen.flow_from_dataframe(dataframe=test,\n",
        "                                               directory=oldpath,\n",
        "                                               x_col='id',\n",
        "                                               y_col='label',\n",
        "                                               batch_size=BATCH_SIZE,\n",
        "                                               seed=376,\n",
        "                                               shuffle=False,\n",
        "                                               class_mode='categorical',\n",
        "                                               target_size=(96,96))"
      ]
    },
    {
      "cell_type": "code",
      "execution_count": 7,
      "metadata": {
        "colab": {
          "base_uri": "https://localhost:8080/"
        },
        "id": "mYIrdJqUEqUS",
        "outputId": "20be5023-bcd0-4d92-a189-f89fddc40bc1"
      },
      "outputs": [
        {
          "output_type": "stream",
          "name": "stdout",
          "text": [
            "Downloading data from https://storage.googleapis.com/tensorflow/keras-applications/vgg19/vgg19_weights_tf_dim_ordering_tf_kernels_notop.h5\n",
            "80142336/80134624 [==============================] - 2s 0us/step\n",
            "80150528/80134624 [==============================] - 2s 0us/step\n"
          ]
        }
      ],
      "source": [
        "base_model = tf.keras.applications.vgg19.VGG19(\n",
        "                                          input_shape=(96,96,3),\n",
        "                                          include_top=False,\n",
        "                                          weights='imagenet'\n",
        ")\n",
        "base_model.trainable = False"
      ]
    },
    {
      "cell_type": "code",
      "execution_count": 8,
      "metadata": {
        "colab": {
          "base_uri": "https://localhost:8080/"
        },
        "id": "Z1U9j43sFraR",
        "outputId": "55cb614c-0e31-4f58-b9aa-3c78f0b476ec"
      },
      "outputs": [
        {
          "output_type": "stream",
          "name": "stdout",
          "text": [
            "Model: \"vgg19\"\n",
            "_________________________________________________________________\n",
            " Layer (type)                Output Shape              Param #   \n",
            "=================================================================\n",
            " input_1 (InputLayer)        [(None, 96, 96, 3)]       0         \n",
            "                                                                 \n",
            " block1_conv1 (Conv2D)       (None, 96, 96, 64)        1792      \n",
            "                                                                 \n",
            " block1_conv2 (Conv2D)       (None, 96, 96, 64)        36928     \n",
            "                                                                 \n",
            " block1_pool (MaxPooling2D)  (None, 48, 48, 64)        0         \n",
            "                                                                 \n",
            " block2_conv1 (Conv2D)       (None, 48, 48, 128)       73856     \n",
            "                                                                 \n",
            " block2_conv2 (Conv2D)       (None, 48, 48, 128)       147584    \n",
            "                                                                 \n",
            " block2_pool (MaxPooling2D)  (None, 24, 24, 128)       0         \n",
            "                                                                 \n",
            " block3_conv1 (Conv2D)       (None, 24, 24, 256)       295168    \n",
            "                                                                 \n",
            " block3_conv2 (Conv2D)       (None, 24, 24, 256)       590080    \n",
            "                                                                 \n",
            " block3_conv3 (Conv2D)       (None, 24, 24, 256)       590080    \n",
            "                                                                 \n",
            " block3_conv4 (Conv2D)       (None, 24, 24, 256)       590080    \n",
            "                                                                 \n",
            " block3_pool (MaxPooling2D)  (None, 12, 12, 256)       0         \n",
            "                                                                 \n",
            " block4_conv1 (Conv2D)       (None, 12, 12, 512)       1180160   \n",
            "                                                                 \n",
            " block4_conv2 (Conv2D)       (None, 12, 12, 512)       2359808   \n",
            "                                                                 \n",
            " block4_conv3 (Conv2D)       (None, 12, 12, 512)       2359808   \n",
            "                                                                 \n",
            " block4_conv4 (Conv2D)       (None, 12, 12, 512)       2359808   \n",
            "                                                                 \n",
            " block4_pool (MaxPooling2D)  (None, 6, 6, 512)         0         \n",
            "                                                                 \n",
            " block5_conv1 (Conv2D)       (None, 6, 6, 512)         2359808   \n",
            "                                                                 \n",
            " block5_conv2 (Conv2D)       (None, 6, 6, 512)         2359808   \n",
            "                                                                 \n",
            " block5_conv3 (Conv2D)       (None, 6, 6, 512)         2359808   \n",
            "                                                                 \n",
            " block5_conv4 (Conv2D)       (None, 6, 6, 512)         2359808   \n",
            "                                                                 \n",
            " block5_pool (MaxPooling2D)  (None, 3, 3, 512)         0         \n",
            "                                                                 \n",
            "=================================================================\n",
            "Total params: 20,024,384\n",
            "Trainable params: 0\n",
            "Non-trainable params: 20,024,384\n",
            "_________________________________________________________________\n"
          ]
        }
      ],
      "source": [
        "base_model.summary()"
      ]
    },
    {
      "cell_type": "code",
      "execution_count": 9,
      "metadata": {
        "id": "MYEdnVLjJQRL"
      },
      "outputs": [],
      "source": [
        "model = tf.keras.Sequential([\n",
        "    base_model,\n",
        "    tf.keras.layers.Flatten(),\n",
        "    tf.keras.layers.Dense(8, activation='relu'),\n",
        "    tf.keras.layers.Dropout(0.5),\n",
        "    tf.keras.layers.Dense(4, activation='relu'),\n",
        "    tf.keras.layers.Dropout(0.5),\n",
        "    tf.keras.layers.BatchNormalization(),\n",
        "    tf.keras.layers.Dense(2,activation='softmax')\n",
        "])\n"
      ]
    },
    {
      "cell_type": "code",
      "source": [
        "lr = 1e-4\n",
        "model.compile(\n",
        "    optimizer = tf.keras.optimizers.Adam(learning_rate=lr),\n",
        "    loss ='categorical_crossentropy',\n",
        "    metrics = ['accuracy', tf.keras.metrics.AUC()],\n",
        ")\n",
        "model.build(input_shape = (None,96,96,3))\n",
        "model.summary()"
      ],
      "metadata": {
        "colab": {
          "base_uri": "https://localhost:8080/"
        },
        "id": "1Udd-AyMyFEC",
        "outputId": "a88c5554-7738-492c-fbd6-2e9f7d579757"
      },
      "execution_count": 10,
      "outputs": [
        {
          "output_type": "stream",
          "name": "stdout",
          "text": [
            "Model: \"sequential\"\n",
            "_________________________________________________________________\n",
            " Layer (type)                Output Shape              Param #   \n",
            "=================================================================\n",
            " vgg19 (Functional)          (None, 3, 3, 512)         20024384  \n",
            "                                                                 \n",
            " flatten (Flatten)           (None, 4608)              0         \n",
            "                                                                 \n",
            " dense (Dense)               (None, 8)                 36872     \n",
            "                                                                 \n",
            " dropout (Dropout)           (None, 8)                 0         \n",
            "                                                                 \n",
            " dense_1 (Dense)             (None, 4)                 36        \n",
            "                                                                 \n",
            " dropout_1 (Dropout)         (None, 4)                 0         \n",
            "                                                                 \n",
            " batch_normalization (BatchN  (None, 4)                16        \n",
            " ormalization)                                                   \n",
            "                                                                 \n",
            " dense_2 (Dense)             (None, 2)                 10        \n",
            "                                                                 \n",
            "=================================================================\n",
            "Total params: 20,061,318\n",
            "Trainable params: 36,926\n",
            "Non-trainable params: 20,024,392\n",
            "_________________________________________________________________\n"
          ]
        }
      ]
    },
    {
      "cell_type": "code",
      "execution_count": 11,
      "metadata": {
        "colab": {
          "base_uri": "https://localhost:8080/"
        },
        "id": "mO8PERrFQwJD",
        "outputId": "4134956f-6b27-42a3-b57b-0a2c5a9cd4d3"
      },
      "outputs": [
        {
          "output_type": "stream",
          "name": "stdout",
          "text": [
            "Epoch 1/50\n",
            "125/125 [==============================] - 5775s 46s/step - loss: 0.9359 - accuracy: 0.4857 - auc: 0.5080 - val_loss: 0.6692 - val_accuracy: 0.5600 - val_auc: 0.6443\n",
            "Epoch 2/50\n",
            "125/125 [==============================] - 35s 280ms/step - loss: 0.7551 - accuracy: 0.4789 - auc: 0.5027 - val_loss: 0.6868 - val_accuracy: 0.5270 - val_auc: 0.5687\n",
            "Epoch 3/50\n",
            "125/125 [==============================] - 34s 271ms/step - loss: 0.6843 - accuracy: 0.5865 - auc: 0.5994 - val_loss: 0.6849 - val_accuracy: 0.5990 - val_auc: 0.6028\n",
            "Epoch 4/50\n",
            "125/125 [==============================] - 34s 274ms/step - loss: 0.6785 - accuracy: 0.5950 - auc: 0.5980 - val_loss: 0.6777 - val_accuracy: 0.5990 - val_auc: 0.6105\n",
            "Epoch 5/50\n",
            "125/125 [==============================] - 34s 273ms/step - loss: 0.6773 - accuracy: 0.5961 - auc: 0.5970 - val_loss: 0.6775 - val_accuracy: 0.5990 - val_auc: 0.5998\n",
            "Epoch 6/50\n",
            "125/125 [==============================] - 35s 281ms/step - loss: 0.6777 - accuracy: 0.5960 - auc: 0.5956 - val_loss: 0.6760 - val_accuracy: 0.5990 - val_auc: 0.5990\n",
            "Epoch 7/50\n",
            "125/125 [==============================] - 34s 273ms/step - loss: 0.6762 - accuracy: 0.5961 - auc: 0.5977 - val_loss: 0.6750 - val_accuracy: 0.5990 - val_auc: 0.5990\n",
            "Epoch 8/50\n",
            "125/125 [==============================] - 34s 271ms/step - loss: 0.6755 - accuracy: 0.5961 - auc: 0.5940 - val_loss: 0.6745 - val_accuracy: 0.5990 - val_auc: 0.5990\n",
            "Epoch 9/50\n",
            "125/125 [==============================] - 35s 278ms/step - loss: 0.6749 - accuracy: 0.5961 - auc: 0.5966 - val_loss: 0.6741 - val_accuracy: 0.5990 - val_auc: 0.5990\n",
            "Epoch 10/50\n",
            "125/125 [==============================] - 35s 276ms/step - loss: 0.6747 - accuracy: 0.5961 - auc: 0.5994 - val_loss: 0.6735 - val_accuracy: 0.5990 - val_auc: 0.5998\n",
            "Epoch 11/50\n",
            "125/125 [==============================] - 35s 280ms/step - loss: 0.6744 - accuracy: 0.5960 - auc: 0.5931 - val_loss: 0.6733 - val_accuracy: 0.5990 - val_auc: 0.5998\n",
            "Epoch 12/50\n",
            "125/125 [==============================] - 34s 272ms/step - loss: 0.6748 - accuracy: 0.5959 - auc: 0.5930 - val_loss: 0.6736 - val_accuracy: 0.5990 - val_auc: 0.5990\n",
            "Epoch 13/50\n",
            "125/125 [==============================] - 34s 273ms/step - loss: 0.6743 - accuracy: 0.5961 - auc: 0.5954 - val_loss: 0.6731 - val_accuracy: 0.5990 - val_auc: 0.5998\n",
            "Epoch 14/50\n",
            "125/125 [==============================] - 34s 272ms/step - loss: 0.6738 - accuracy: 0.5961 - auc: 0.5926 - val_loss: 0.6580 - val_accuracy: 0.5990 - val_auc: 0.6166\n",
            "Epoch 15/50\n",
            "125/125 [==============================] - 34s 271ms/step - loss: 0.6677 - accuracy: 0.5947 - auc: 0.6072 - val_loss: 0.6562 - val_accuracy: 0.5990 - val_auc: 0.6291\n",
            "Epoch 16/50\n",
            "125/125 [==============================] - 35s 281ms/step - loss: 0.6666 - accuracy: 0.5950 - auc: 0.6123 - val_loss: 0.6404 - val_accuracy: 0.5990 - val_auc: 0.6497\n",
            "Epoch 17/50\n",
            "125/125 [==============================] - 34s 273ms/step - loss: 0.6698 - accuracy: 0.5961 - auc: 0.6066 - val_loss: 0.6550 - val_accuracy: 0.5990 - val_auc: 0.6346\n",
            "Epoch 18/50\n",
            "125/125 [==============================] - 34s 272ms/step - loss: 0.6646 - accuracy: 0.5961 - auc: 0.6094 - val_loss: 0.6251 - val_accuracy: 0.5990 - val_auc: 0.6588\n",
            "Epoch 19/50\n",
            "125/125 [==============================] - 34s 271ms/step - loss: 0.6665 - accuracy: 0.5961 - auc: 0.6155 - val_loss: 0.6406 - val_accuracy: 0.5990 - val_auc: 0.6508\n",
            "Epoch 20/50\n",
            "125/125 [==============================] - 35s 277ms/step - loss: 0.6662 - accuracy: 0.5961 - auc: 0.6035 - val_loss: 0.6401 - val_accuracy: 0.5990 - val_auc: 0.6452\n",
            "Epoch 21/50\n",
            "125/125 [==============================] - 34s 272ms/step - loss: 0.6638 - accuracy: 0.5961 - auc: 0.6131 - val_loss: 0.6299 - val_accuracy: 0.5990 - val_auc: 0.6611\n",
            "Epoch 22/50\n",
            "125/125 [==============================] - 34s 271ms/step - loss: 0.6626 - accuracy: 0.5961 - auc: 0.6147 - val_loss: 0.6219 - val_accuracy: 0.5990 - val_auc: 0.6745\n",
            "Epoch 23/50\n",
            "125/125 [==============================] - 34s 273ms/step - loss: 0.6606 - accuracy: 0.5961 - auc: 0.6171 - val_loss: 0.6062 - val_accuracy: 0.5990 - val_auc: 0.7191\n",
            "Epoch 24/50\n",
            "125/125 [==============================] - 34s 270ms/step - loss: 0.6643 - accuracy: 0.5961 - auc: 0.6175 - val_loss: 0.5826 - val_accuracy: 0.5990 - val_auc: 0.7466\n",
            "Epoch 25/50\n",
            "125/125 [==============================] - 35s 283ms/step - loss: 0.6603 - accuracy: 0.5961 - auc: 0.6205 - val_loss: 0.5814 - val_accuracy: 0.5990 - val_auc: 0.7542\n",
            "Epoch 26/50\n",
            "125/125 [==============================] - 34s 270ms/step - loss: 0.6509 - accuracy: 0.5961 - auc: 0.6255 - val_loss: 0.5861 - val_accuracy: 0.5990 - val_auc: 0.7524\n",
            "Epoch 27/50\n",
            "125/125 [==============================] - 34s 274ms/step - loss: 0.6515 - accuracy: 0.5961 - auc: 0.6291 - val_loss: 0.5898 - val_accuracy: 0.5990 - val_auc: 0.7511\n",
            "Epoch 28/50\n",
            "125/125 [==============================] - 34s 271ms/step - loss: 0.6538 - accuracy: 0.5961 - auc: 0.6332 - val_loss: 0.6087 - val_accuracy: 0.5990 - val_auc: 0.7338\n",
            "Epoch 29/50\n",
            "125/125 [==============================] - 35s 278ms/step - loss: 0.6498 - accuracy: 0.5961 - auc: 0.6296 - val_loss: 0.6051 - val_accuracy: 0.5990 - val_auc: 0.7369\n",
            "Epoch 30/50\n",
            "125/125 [==============================] - 34s 273ms/step - loss: 0.6497 - accuracy: 0.5961 - auc: 0.6277 - val_loss: 0.5928 - val_accuracy: 0.5990 - val_auc: 0.7453\n",
            "Epoch 31/50\n",
            "125/125 [==============================] - 34s 271ms/step - loss: 0.6551 - accuracy: 0.5961 - auc: 0.6277 - val_loss: 0.5911 - val_accuracy: 0.5990 - val_auc: 0.7551\n",
            "Epoch 32/50\n",
            "125/125 [==============================] - 34s 272ms/step - loss: 0.6507 - accuracy: 0.5961 - auc: 0.6295 - val_loss: 0.5944 - val_accuracy: 0.5990 - val_auc: 0.7529\n",
            "Epoch 33/50\n",
            "125/125 [==============================] - 34s 275ms/step - loss: 0.6478 - accuracy: 0.5961 - auc: 0.6298 - val_loss: 0.5886 - val_accuracy: 0.5990 - val_auc: 0.7592\n",
            "Epoch 34/50\n",
            "125/125 [==============================] - 35s 281ms/step - loss: 0.6497 - accuracy: 0.5961 - auc: 0.6284 - val_loss: 0.6017 - val_accuracy: 0.5990 - val_auc: 0.7483\n",
            "Epoch 35/50\n",
            "125/125 [==============================] - 34s 271ms/step - loss: 0.6523 - accuracy: 0.5961 - auc: 0.6313 - val_loss: 0.5820 - val_accuracy: 0.5990 - val_auc: 0.7650\n",
            "Epoch 36/50\n",
            "125/125 [==============================] - 34s 271ms/step - loss: 0.6490 - accuracy: 0.5961 - auc: 0.6242 - val_loss: 0.5998 - val_accuracy: 0.5990 - val_auc: 0.7499\n",
            "Epoch 37/50\n",
            "125/125 [==============================] - 34s 275ms/step - loss: 0.6470 - accuracy: 0.5961 - auc: 0.6329 - val_loss: 0.5910 - val_accuracy: 0.5990 - val_auc: 0.7620\n",
            "Epoch 38/50\n",
            "125/125 [==============================] - 35s 276ms/step - loss: 0.6475 - accuracy: 0.5961 - auc: 0.6296 - val_loss: 0.5880 - val_accuracy: 0.5990 - val_auc: 0.7645\n",
            "Epoch 39/50\n",
            "125/125 [==============================] - 34s 272ms/step - loss: 0.6451 - accuracy: 0.5961 - auc: 0.6314 - val_loss: 0.5902 - val_accuracy: 0.5990 - val_auc: 0.7650\n",
            "Epoch 40/50\n",
            "125/125 [==============================] - 34s 270ms/step - loss: 0.6512 - accuracy: 0.5961 - auc: 0.6252 - val_loss: 0.5900 - val_accuracy: 0.5990 - val_auc: 0.7607\n",
            "Epoch 41/50\n",
            "125/125 [==============================] - 34s 274ms/step - loss: 0.6463 - accuracy: 0.5961 - auc: 0.6299 - val_loss: 0.5945 - val_accuracy: 0.5990 - val_auc: 0.7618\n",
            "Epoch 42/50\n",
            "125/125 [==============================] - 34s 273ms/step - loss: 0.6521 - accuracy: 0.5961 - auc: 0.6246 - val_loss: 0.5952 - val_accuracy: 0.5990 - val_auc: 0.7575\n",
            "Epoch 43/50\n",
            "125/125 [==============================] - 35s 280ms/step - loss: 0.6502 - accuracy: 0.5961 - auc: 0.6323 - val_loss: 0.5915 - val_accuracy: 0.5990 - val_auc: 0.7641\n",
            "Epoch 44/50\n",
            "125/125 [==============================] - 34s 273ms/step - loss: 0.6492 - accuracy: 0.5961 - auc: 0.6291 - val_loss: 0.5971 - val_accuracy: 0.5990 - val_auc: 0.7579\n",
            "Epoch 45/50\n",
            "125/125 [==============================] - 34s 272ms/step - loss: 0.6455 - accuracy: 0.5961 - auc: 0.6311 - val_loss: 0.5925 - val_accuracy: 0.5990 - val_auc: 0.7618\n",
            "Epoch 46/50\n",
            "125/125 [==============================] - 34s 275ms/step - loss: 0.6491 - accuracy: 0.5961 - auc: 0.6270 - val_loss: 0.5838 - val_accuracy: 0.5990 - val_auc: 0.7631\n",
            "Epoch 47/50\n",
            "125/125 [==============================] - 35s 277ms/step - loss: 0.6486 - accuracy: 0.5961 - auc: 0.6313 - val_loss: 0.5954 - val_accuracy: 0.5990 - val_auc: 0.7626\n",
            "Epoch 48/50\n",
            "125/125 [==============================] - 34s 273ms/step - loss: 0.6481 - accuracy: 0.5961 - auc: 0.6317 - val_loss: 0.5906 - val_accuracy: 0.5990 - val_auc: 0.7688\n",
            "Epoch 49/50\n",
            "125/125 [==============================] - 34s 272ms/step - loss: 0.6467 - accuracy: 0.5961 - auc: 0.6320 - val_loss: 0.5939 - val_accuracy: 0.5990 - val_auc: 0.7667\n",
            "Epoch 50/50\n",
            "125/125 [==============================] - 34s 274ms/step - loss: 0.6472 - accuracy: 0.5961 - auc: 0.6335 - val_loss: 0.5897 - val_accuracy: 0.5990 - val_auc: 0.7684\n"
          ]
        }
      ],
      "source": [
        "TR_STEPS = len(train_loader)\n",
        "VA_STEPS = len(val_loader)\n",
        "epochs = 50\n",
        "history = model.fit(\n",
        "    x = train_loader,\n",
        "    steps_per_epoch = TR_STEPS,\n",
        "    validation_data = val_loader,\n",
        "    validation_steps = VA_STEPS,\n",
        "    verbose = 1,\n",
        "    epochs=epochs\n",
        ")"
      ]
    },
    {
      "cell_type": "code",
      "source": [
        "model.evaluate(test_loader)"
      ],
      "metadata": {
        "colab": {
          "base_uri": "https://localhost:8080/"
        },
        "id": "iIFK6MF0D2CU",
        "outputId": "b0c050d8-bce6-41f3-c7f5-a662a54e3b95"
      },
      "execution_count": 12,
      "outputs": [
        {
          "output_type": "stream",
          "name": "stdout",
          "text": [
            "16/16 [==============================] - 597s 40s/step - loss: 0.5963 - accuracy: 0.5850 - auc: 0.7562\n"
          ]
        },
        {
          "output_type": "execute_result",
          "data": {
            "text/plain": [
              "[0.5962857604026794, 0.5849999785423279, 0.7561600208282471]"
            ]
          },
          "metadata": {},
          "execution_count": 12
        }
      ]
    },
    {
      "cell_type": "code",
      "source": [
        "history_dict = history.history\n",
        "print(history_dict.keys())\n",
        "\n",
        "acc = history_dict['accuracy']\n",
        "val_acc = history_dict['val_accuracy']\n",
        "loss = history_dict['loss']\n",
        "val_loss = history_dict['val_loss']\n",
        "\n",
        "epochs = range(1, len(acc) + 1)\n",
        "fig = plt.figure(figsize=(10, 6))\n",
        "fig.tight_layout()\n",
        "\n",
        "plt.subplot(2, 1, 1)\n",
        "# r is for \"solid red line\"\n",
        "plt.plot(epochs, loss, 'r', label='Training loss')\n",
        "# b is for \"solid blue line\"\n",
        "plt.plot(epochs, val_loss, 'b', label='Validation loss')\n",
        "plt.title('Training and validation loss')\n",
        "# plt.xlabel('Epochs')\n",
        "plt.ylabel('Loss')\n",
        "plt.legend()\n",
        "\n",
        "plt.subplot(2, 1, 2)\n",
        "plt.plot(epochs, acc, 'r', label='Training acc')\n",
        "plt.plot(epochs, val_acc, 'b', label='Validation acc')\n",
        "plt.title('Training and validation accuracy')\n",
        "plt.xlabel('Epochs')\n",
        "plt.ylabel('Accuracy')\n",
        "plt.legend(loc='lower right')"
      ],
      "metadata": {
        "id": "EFHwUL_EP9Kl",
        "colab": {
          "base_uri": "https://localhost:8080/",
          "height": 439
        },
        "outputId": "46578ecd-d0d0-4b55-dab9-ae13c0417e9a"
      },
      "execution_count": 13,
      "outputs": [
        {
          "output_type": "stream",
          "name": "stdout",
          "text": [
            "dict_keys(['loss', 'accuracy', 'auc', 'val_loss', 'val_accuracy', 'val_auc'])\n"
          ]
        },
        {
          "output_type": "execute_result",
          "data": {
            "text/plain": [
              "<matplotlib.legend.Legend at 0x7fe9a422c350>"
            ]
          },
          "metadata": {},
          "execution_count": 13
        },
        {
          "output_type": "display_data",
          "data": {
            "text/plain": [
              "<Figure size 720x432 with 2 Axes>"
            ],
            "image/png": "[encoded data removed]"
          },
          "metadata": {
            "needs_background": "light"
          }
        }
      ]
    },
    {
      "cell_type": "code",
      "source": [
        "model.save('/content/drive/MyDrive/376_project/vgg19_no_crop/')\n",
        "model = tf.keras.models.load_model('/content/drive/MyDrive/376_project/vgg19_no_crop/')\n",
        "model.evaluate(test_loader)"
      ],
      "metadata": {
        "colab": {
          "base_uri": "https://localhost:8080/"
        },
        "id": "oviDtJY5Aqis",
        "outputId": "550adb39-f9e4-42e7-8b63-a195e3c96223"
      },
      "execution_count": 14,
      "outputs": [
        {
          "output_type": "stream",
          "name": "stdout",
          "text": [
            "INFO:tensorflow:Assets written to: /content/drive/MyDrive/376_project/vgg19_no_crop/assets\n",
            "16/16 [==============================] - 2s 119ms/step - loss: 0.5963 - accuracy: 0.5850 - auc: 0.7562\n"
          ]
        },
        {
          "output_type": "execute_result",
          "data": {
            "text/plain": [
              "[0.5962857604026794, 0.5849999785423279, 0.7561600208282471]"
            ]
          },
          "metadata": {},
          "execution_count": 14
        }
      ]
    }
  ],
  "metadata": {
    "accelerator": "GPU",
    "colab": {
      "collapsed_sections": [],
      "name": "VGG19_cancer_no_crop.ipynb",
      "provenance": []
    },
    "kernelspec": {
      "display_name": "Python 3",
      "name": "python3"
    },
    "language_info": {
      "name": "python"
    }
  },
  "nbformat": 4,
  "nbformat_minor": 0
}