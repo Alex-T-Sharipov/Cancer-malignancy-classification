{
  "cells": [
    {
      "cell_type": "code",
      "execution_count": null,
      "metadata": {
        "id": "ttZ16wFrjC1p"
      },
      "outputs": [],
      "source": [
        "import math\n",
        "import numpy as np\n",
        "import pandas as pd\n",
        "import matplotlib.pyplot as plt\n",
        "import matplotlib.image as mpimg\n",
        "import pickle\n",
        "import os\n",
        "import tensorflow as tf\n",
        "import sys\n",
        "from sklearn.model_selection import train_test_split\n",
        "from tensorflow.keras.models import Sequential\n",
        "from tensorflow import keras\n",
        "from tensorflow.keras.layers import *\n",
        "from tensorflow.keras.preprocessing.image import ImageDataGenerator\n",
        "from tensorflow.keras import backend as k"
      ]
    },
    {
      "cell_type": "code",
      "execution_count": null,
      "metadata": {
        "colab": {
          "base_uri": "https://localhost:8080/"
        },
        "id": "MfLMd4iTlvDq",
        "outputId": "aa505ab8-016b-4bfb-cfc6-8dd6f3f28997"
      },
      "outputs": [
        {
          "name": "stdout",
          "output_type": "stream",
          "text": [
            "Mounted at /content/drive\n"
          ]
        }
      ],
      "source": [
        "from google.colab import drive\n",
        "drive.mount('/content/drive')\n",
        "path = '/content/drive/MyDrive/376_project/newcancerdata/'\n",
        "oldpath = '/content/drive/MyDrive/376_project/cancerdata'\n",
        "BATCH_SIZE = 64"
      ]
    },
    {
      "cell_type": "code",
      "execution_count": null,
      "metadata": {
        "colab": {
          "base_uri": "https://localhost:8080/"
        },
        "id": "juKkjPtul2PR",
        "outputId": "af4162a9-9d91-44ba-973f-3701064323b9"
      },
      "outputs": [
        {
          "name": "stdout",
          "output_type": "stream",
          "text": [
            "(10000, 3)\n"
          ]
        },
        {
          "data": {
            "text/plain": [
              "<bound method NDFrame.head of        index                                            id label\n",
              "0         17  0003378267bd3d9964d701ff9e52ddce1b027e46.tif     0\n",
              "1         49  000af35befdd9ab2e24fac80fb6508dfd1edd172.tif     1\n",
              "2         66  0011a007b64a4a0f351ee4d7d00f237b1713b9bf.tif     0\n",
              "3        160  002cf4e8faa1b238d67b3066fbeb382d128bc6e9.tif     0\n",
              "4        183  0033eb6f1ae535166311e5837b006cba336e9200.tif     0\n",
              "...      ...                                           ...   ...\n",
              "9995  219929  ffe4b21fe0e2e13c677a0508aaa2717a0cf2ba08.tif     0\n",
              "9996  219957  ffec122459ed1be2cb4a94009c115113a992813d.tif     0\n",
              "9997  219958  ffec4a03e0a1b8d70e2bab767ac0f1803519e71a.tif     1\n",
              "9998  219981  fff2b1244d1d9492ba0950f3221628add0e1cbd4.tif     0\n",
              "9999  219986  fff3cf6f5992363edf773aa539a98679aad19180.tif     0\n",
              "\n",
              "[10000 rows x 3 columns]>"
            ]
          },
          "execution_count": 3,
          "metadata": {},
          "output_type": "execute_result"
        }
      ],
      "source": [
        "data = pd.read_csv('/content/drive/MyDrive/376_project/labels.csv', dtype=str)\n",
        "data.id = data.id + '.tif'\n",
        "print(data.shape)\n",
        "data.head\n"
      ]
    },
    {
      "cell_type": "code",
      "execution_count": null,
      "metadata": {
        "colab": {
          "base_uri": "https://localhost:8080/"
        },
        "id": "p_xLY4CemaEm",
        "outputId": "0732ec2c-b578-467b-e95e-4ceb7c7f4ea1"
      },
      "outputs": [
        {
          "name": "stdout",
          "output_type": "stream",
          "text": [
            "Total number of examples in training set : 8000\n",
            "Total number of examples in validation set : 1000\n",
            "Total number of examples in test set : 1000\n"
          ]
        }
      ],
      "source": [
        "train, val_test = train_test_split(data, train_size=0.8, random_state=376, shuffle=True)\n",
        "val, test = train_test_split(val_test, train_size=0.5, random_state=376, shuffle=True)\n",
        "\n",
        "print(f\"Total number of examples in training set : {train.shape[0]}\")\n",
        "print(f\"Total number of examples in validation set : {val.shape[0]}\")\n",
        "print(f\"Total number of examples in test set : {test.shape[0]}\")"
      ]
    },
    {
      "cell_type": "code",
      "execution_count": null,
      "metadata": {
        "id": "Sq64rVarmh4p"
      },
      "outputs": [],
      "source": [
        "train_datagen = ImageDataGenerator(rescale=1/255,\n",
        "                                   rotation_range=45,\n",
        "                                   vertical_flip=True,\n",
        "                                   horizontal_flip=True,\n",
        "                                   width_shift_range=0.3,\n",
        "                                   height_shift_range=0.3,\n",
        "                                   dtype=tf.float32)\n",
        "val_datagen = ImageDataGenerator(rescale=1/255,\n",
        "                                 dtype=tf.float32)\n",
        "test_datagen = ImageDataGenerator(rescale=1/255,\n",
        "                                  dtype=tf.float32)"
      ]
    },
    {
      "cell_type": "code",
      "execution_count": null,
      "metadata": {
        "colab": {
          "base_uri": "https://localhost:8080/"
        },
        "id": "br_jJe2mqZfX",
        "outputId": "db562afc-9f68-4684-9fb9-e87333a96176"
      },
      "outputs": [
        {
          "name": "stdout",
          "output_type": "stream",
          "text": [
            "Found 8000 validated image filenames belonging to 2 classes.\n",
            "Found 1000 validated image filenames belonging to 2 classes.\n",
            "Found 1000 validated image filenames belonging to 2 classes.\n"
          ]
        }
      ],
      "source": [
        "train_loader = train_datagen.flow_from_dataframe(dataframe=train,\n",
        "                                                 directory=oldpath,\n",
        "                                                 x_col='id',\n",
        "                                                 y_col='label',\n",
        "                                                 batch_size=BATCH_SIZE,\n",
        "                                                 seed=376,\n",
        "                                                 shuffle=True,\n",
        "                                                 class_mode='categorical',\n",
        "                                                 target_size=(96,96))\n",
        "\n",
        "val_loader = val_datagen.flow_from_dataframe(dataframe=val,\n",
        "                                             directory=oldpath,\n",
        "                                             x_col='id',\n",
        "                                             y_col='label',\n",
        "                                             batch_size=BATCH_SIZE,\n",
        "                                             seed=376,\n",
        "                                             shuffle=True,\n",
        "                                             class_mode='categorical',\n",
        "                                             target_size=(96,96))\n",
        "\n",
        "test_loader = test_datagen.flow_from_dataframe(dataframe=test,\n",
        "                                               directory=oldpath,\n",
        "                                               x_col='id',\n",
        "                                               y_col='label',\n",
        "                                               batch_size=BATCH_SIZE,\n",
        "                                               seed=376,\n",
        "                                               shuffle=False,\n",
        "                                               class_mode='categorical',\n",
        "                                               target_size=(96,96))"
      ]
    },
    {
      "cell_type": "code",
      "execution_count": null,
      "metadata": {
        "colab": {
          "base_uri": "https://localhost:8080/"
        },
        "id": "mYIrdJqUEqUS",
        "outputId": "65a3c0d9-ad21-423f-e99e-227f004015f2"
      },
      "outputs": [
        {
          "name": "stdout",
          "output_type": "stream",
          "text": [
            "Downloading data from https://storage.googleapis.com/tensorflow/keras-applications/vgg19/vgg19_weights_tf_dim_ordering_tf_kernels_notop.h5\n",
            "80142336/80134624 [==============================] - 1s 0us/step\n",
            "80150528/80134624 [==============================] - 1s 0us/step\n"
          ]
        }
      ],
      "source": [
        "base_model = tf.keras.applications.vgg19.VGG19(\n",
        "                                          input_shape=(32,32,3),\n",
        "                                          include_top=False,\n",
        "                                          weights='imagenet'\n",
        ")\n",
        "base_model.trainable = False"
      ]
    },
    {
      "cell_type": "code",
      "execution_count": null,
      "metadata": {
        "colab": {
          "base_uri": "https://localhost:8080/"
        },
        "id": "Z1U9j43sFraR",
        "outputId": "4cd05116-a325-4535-c767-9324d75aca7d"
      },
      "outputs": [
        {
          "name": "stdout",
          "output_type": "stream",
          "text": [
            "Model: \"vgg19\"\n",
            "_________________________________________________________________\n",
            " Layer (type)                Output Shape              Param #   \n",
            "=================================================================\n",
            " input_1 (InputLayer)        [(None, 32, 32, 3)]       0         \n",
            "                                                                 \n",
            " block1_conv1 (Conv2D)       (None, 32, 32, 64)        1792      \n",
            "                                                                 \n",
            " block1_conv2 (Conv2D)       (None, 32, 32, 64)        36928     \n",
            "                                                                 \n",
            " block1_pool (MaxPooling2D)  (None, 16, 16, 64)        0         \n",
            "                                                                 \n",
            " block2_conv1 (Conv2D)       (None, 16, 16, 128)       73856     \n",
            "                                                                 \n",
            " block2_conv2 (Conv2D)       (None, 16, 16, 128)       147584    \n",
            "                                                                 \n",
            " block2_pool (MaxPooling2D)  (None, 8, 8, 128)         0         \n",
            "                                                                 \n",
            " block3_conv1 (Conv2D)       (None, 8, 8, 256)         295168    \n",
            "                                                                 \n",
            " block3_conv2 (Conv2D)       (None, 8, 8, 256)         590080    \n",
            "                                                                 \n",
            " block3_conv3 (Conv2D)       (None, 8, 8, 256)         590080    \n",
            "                                                                 \n",
            " block3_conv4 (Conv2D)       (None, 8, 8, 256)         590080    \n",
            "                                                                 \n",
            " block3_pool (MaxPooling2D)  (None, 4, 4, 256)         0         \n",
            "                                                                 \n",
            " block4_conv1 (Conv2D)       (None, 4, 4, 512)         1180160   \n",
            "                                                                 \n",
            " block4_conv2 (Conv2D)       (None, 4, 4, 512)         2359808   \n",
            "                                                                 \n",
            " block4_conv3 (Conv2D)       (None, 4, 4, 512)         2359808   \n",
            "                                                                 \n",
            " block4_conv4 (Conv2D)       (None, 4, 4, 512)         2359808   \n",
            "                                                                 \n",
            " block4_pool (MaxPooling2D)  (None, 2, 2, 512)         0         \n",
            "                                                                 \n",
            " block5_conv1 (Conv2D)       (None, 2, 2, 512)         2359808   \n",
            "                                                                 \n",
            " block5_conv2 (Conv2D)       (None, 2, 2, 512)         2359808   \n",
            "                                                                 \n",
            " block5_conv3 (Conv2D)       (None, 2, 2, 512)         2359808   \n",
            "                                                                 \n",
            " block5_conv4 (Conv2D)       (None, 2, 2, 512)         2359808   \n",
            "                                                                 \n",
            " block5_pool (MaxPooling2D)  (None, 1, 1, 512)         0         \n",
            "                                                                 \n",
            "=================================================================\n",
            "Total params: 20,024,384\n",
            "Trainable params: 0\n",
            "Non-trainable params: 20,024,384\n",
            "_________________________________________________________________\n"
          ]
        }
      ],
      "source": [
        "base_model.summary()"
      ]
    },
    {
      "cell_type": "code",
      "execution_count": null,
      "metadata": {
        "id": "DFBdVgKSZTUG"
      },
      "outputs": [],
      "source": [
        "intermediate_layer_model = tf.keras.Model(inputs=base_model.input,\n",
        "                                 outputs=base_model.layers[-18].output)"
      ]
    },
    {
      "cell_type": "code",
      "execution_count": null,
      "metadata": {
        "colab": {
          "base_uri": "https://localhost:8080/"
        },
        "id": "MYEdnVLjJQRL",
        "outputId": "aa29ed99-a87d-4711-96f7-9a2be1889443"
      },
      "outputs": [
        {
          "name": "stdout",
          "output_type": "stream",
          "text": [
            "Model: \"model_21\"\n",
            "__________________________________________________________________________________________________\n",
            " Layer (type)                   Output Shape         Param #     Connected to                     \n",
            "==================================================================================================\n",
            " images (InputLayer)            [(None, 96, 96, 3)]  0           []                               \n",
            "                                                                                                  \n",
            " center_crop_22 (CenterCrop)    (None, 32, 32, 3)    0           ['images[0][0]']                 \n",
            "                                                                                                  \n",
            " model_14 (Functional)          (None, 16, 16, 128)  112576      ['center_crop_22[0][0]']         \n",
            "                                                                                                  \n",
            " tf.image.extract_patches_19 (T  (None, 5, 5, 512)   0           ['model_14[11][0]']              \n",
            " FOpLambda)                                                                                       \n",
            "                                                                                                  \n",
            " tf.reshape_19 (TFOpLambda)     (None, 25, 512)      0           ['tf.image.extract_patches_19[0][\n",
            "                                                                 0]']                             \n",
            "                                                                                                  \n",
            " multi_head_attention_47 (Multi  (None, 25, 512)     33604096    ['tf.reshape_19[0][0]',          \n",
            " HeadAttention)                                                   'tf.reshape_19[0][0]',          \n",
            "                                                                  'tf.reshape_19[0][0]']          \n",
            "                                                                                                  \n",
            " tf.__operators__.add_66 (TFOpL  (None, 25, 512)     0           ['multi_head_attention_47[0][0]',\n",
            " ambda)                                                           'tf.reshape_19[0][0]']          \n",
            "                                                                                                  \n",
            " layer_normalization_66 (LayerN  (None, 25, 512)     1024        ['tf.__operators__.add_66[0][0]']\n",
            " ormalization)                                                                                    \n",
            "                                                                                                  \n",
            " dense_102 (Dense)              (None, 25, 512)      262656      ['layer_normalization_66[0][0]'] \n",
            "                                                                                                  \n",
            " dense_103 (Dense)              (None, 25, 512)      262656      ['dense_102[0][0]']              \n",
            "                                                                                                  \n",
            " multi_head_attention_48 (Multi  (None, 25, 512)     33604096    ['tf.reshape_19[0][0]',          \n",
            " HeadAttention)                                                   'tf.reshape_19[0][0]',          \n",
            "                                                                  'tf.reshape_19[0][0]']          \n",
            "                                                                                                  \n",
            " dense_104 (Dense)              (None, 25, 512)      262656      ['dense_103[0][0]']              \n",
            "                                                                                                  \n",
            " tf.__operators__.add_68 (TFOpL  (None, 25, 512)     0           ['multi_head_attention_48[0][0]',\n",
            " ambda)                                                           'tf.reshape_19[0][0]']          \n",
            "                                                                                                  \n",
            " tf.__operators__.add_67 (TFOpL  (None, 25, 512)     0           ['dense_104[0][0]',              \n",
            " ambda)                                                           'layer_normalization_66[0][0]'] \n",
            "                                                                                                  \n",
            " layer_normalization_68 (LayerN  (None, 25, 512)     1024        ['tf.__operators__.add_68[0][0]']\n",
            " ormalization)                                                                                    \n",
            "                                                                                                  \n",
            " layer_normalization_67 (LayerN  (None, 25, 512)     1024        ['tf.__operators__.add_67[0][0]']\n",
            " ormalization)                                                                                    \n",
            "                                                                                                  \n",
            " multi_head_attention_49 (Multi  (None, 25, 512)     33604096    ['layer_normalization_68[0][0]', \n",
            " HeadAttention)                                                   'layer_normalization_67[0][0]', \n",
            "                                                                  'layer_normalization_67[0][0]'] \n",
            "                                                                                                  \n",
            " tf.__operators__.add_69 (TFOpL  (None, 25, 512)     0           ['layer_normalization_68[0][0]', \n",
            " ambda)                                                           'multi_head_attention_49[0][0]']\n",
            "                                                                                                  \n",
            " layer_normalization_69 (LayerN  (None, 25, 512)     1024        ['tf.__operators__.add_69[0][0]']\n",
            " ormalization)                                                                                    \n",
            "                                                                                                  \n",
            " dense_105 (Dense)              (None, 25, 512)      262656      ['layer_normalization_69[0][0]'] \n",
            "                                                                                                  \n",
            " dense_106 (Dense)              (None, 25, 512)      262656      ['dense_105[0][0]']              \n",
            "                                                                                                  \n",
            " dense_107 (Dense)              (None, 25, 512)      262656      ['dense_106[0][0]']              \n",
            "                                                                                                  \n",
            " global_average_pooling1d_14 (G  (None, 512)         0           ['dense_107[0][0]']              \n",
            " lobalAveragePooling1D)                                                                           \n",
            "                                                                                                  \n",
            " classifier (Dense)             (None, 2)            1026        ['global_average_pooling1d_14[0][\n",
            "                                                                 0]']                             \n",
            "                                                                                                  \n",
            "==================================================================================================\n",
            "Total params: 102,505,922\n",
            "Trainable params: 102,393,346\n",
            "Non-trainable params: 112,576\n",
            "__________________________________________________________________________________________________\n"
          ]
        }
      ],
      "source": [
        "import tensorflow as tf\n",
        "\n",
        "heads = 32\n",
        "key_dim = 512\n",
        "\n",
        "def build_classifier_model():\n",
        "  raw_images = tf.keras.layers.Input(shape=(96,96,3), dtype=tf.float32, name='images')\n",
        "  images = tf.keras.layers.CenterCrop(32,32)(raw_images) # 32,32,3\n",
        "\n",
        "  cnn_output = intermediate_layer_model(images)\n",
        "  # print(cnn_output.shape)\n",
        "\n",
        "  patches = tf.image.extract_patches(\n",
        "              images=cnn_output,\n",
        "              sizes=[1, 2, 2, 1],\n",
        "              strides=[1, 3, 3, 1],\n",
        "              rates=[1, 1, 1, 1],\n",
        "              padding=\"VALID\",\n",
        "          ) #14,14,75\n",
        "  # print(patches.shape)\n",
        "  input_sequence = tf.reshape(patches, shape=[-1, 25, 512])\n",
        "  # print(input_sequence.shape)\n",
        "  #Encoder 1\n",
        "  at1 = tf.keras.layers.MultiHeadAttention(num_heads=heads,key_dim=key_dim,)(query=input_sequence, value=input_sequence, key=input_sequence) # (None, 196, 75)\n",
        "  # print(at1.shape)\n",
        "  norm1 = tf.keras.layers.LayerNormalization(axis=-1)(at1 + input_sequence) # (None, 196, 75)\n",
        "  feed = tf.keras.layers.Dense(512, activation='relu')(norm1)\n",
        "  feed = tf.keras.layers.Dense(512, activation='relu')(feed)\n",
        "  feed = tf.keras.layers.Dense(512, activation='relu')(feed)\n",
        "  # print(feed.shape)\n",
        "  norm2 = tf.keras.layers.LayerNormalization(axis=-1)(feed + norm1) # (None, 196, 75)\n",
        "\n",
        "  #Decoder 1\n",
        "  at1 = tf.keras.layers.MultiHeadAttention(num_heads=heads,key_dim=key_dim,)(query=input_sequence, value=input_sequence, key=input_sequence) # (None, 196, 75)\n",
        "  dec_norm1 = tf.keras.layers.LayerNormalization(axis=-1)(at1 + input_sequence) # (None, 196, 75)\n",
        "  at2 = tf.keras.layers.MultiHeadAttention(num_heads=heads,key_dim=key_dim)(query=dec_norm1, value=norm2, key=norm2)  # (None, 196, 75)\n",
        "  dec_norm2 = tf.keras.layers.LayerNormalization(axis=-1)(dec_norm1 + at2)  # (None, 196, 75)\n",
        "  feed = tf.keras.layers.Dense(512, activation='relu')(dec_norm2)\n",
        "  feed = tf.keras.layers.Dense(512, activation='relu')(feed)\n",
        "  feed = tf.keras.layers.Dense(512, activation='relu')(feed)\n",
        "  pool = tf.keras.layers.GlobalAveragePooling1D()(feed)\n",
        "  net = tf.keras.layers.Dense(2, activation='softmax', name='classifier')(pool)\n",
        "  return tf.keras.Model(raw_images, net)\n",
        "  \n",
        "model = build_classifier_model()\n",
        "model.summary()"
      ]
    },
    {
      "cell_type": "code",
      "execution_count": null,
      "metadata": {
        "colab": {
          "base_uri": "https://localhost:8080/"
        },
        "id": "1Udd-AyMyFEC",
        "outputId": "1e8f2f05-57b5-4ff5-f0d4-ee5f4dabf95a"
      },
      "outputs": [
        {
          "name": "stdout",
          "output_type": "stream",
          "text": [
            "Model: \"model_21\"\n",
            "__________________________________________________________________________________________________\n",
            " Layer (type)                   Output Shape         Param #     Connected to                     \n",
            "==================================================================================================\n",
            " images (InputLayer)            [(None, 96, 96, 3)]  0           []                               \n",
            "                                                                                                  \n",
            " center_crop_22 (CenterCrop)    (None, 32, 32, 3)    0           ['images[0][0]']                 \n",
            "                                                                                                  \n",
            " model_14 (Functional)          (None, 16, 16, 128)  112576      ['center_crop_22[0][0]']         \n",
            "                                                                                                  \n",
            " tf.image.extract_patches_19 (T  (None, 5, 5, 512)   0           ['model_14[11][0]']              \n",
            " FOpLambda)                                                                                       \n",
            "                                                                                                  \n",
            " tf.reshape_19 (TFOpLambda)     (None, 25, 512)      0           ['tf.image.extract_patches_19[0][\n",
            "                                                                 0]']                             \n",
            "                                                                                                  \n",
            " multi_head_attention_47 (Multi  (None, 25, 512)     33604096    ['tf.reshape_19[0][0]',          \n",
            " HeadAttention)                                                   'tf.reshape_19[0][0]',          \n",
            "                                                                  'tf.reshape_19[0][0]']          \n",
            "                                                                                                  \n",
            " tf.__operators__.add_66 (TFOpL  (None, 25, 512)     0           ['multi_head_attention_47[0][0]',\n",
            " ambda)                                                           'tf.reshape_19[0][0]']          \n",
            "                                                                                                  \n",
            " layer_normalization_66 (LayerN  (None, 25, 512)     1024        ['tf.__operators__.add_66[0][0]']\n",
            " ormalization)                                                                                    \n",
            "                                                                                                  \n",
            " dense_102 (Dense)              (None, 25, 512)      262656      ['layer_normalization_66[0][0]'] \n",
            "                                                                                                  \n",
            " dense_103 (Dense)              (None, 25, 512)      262656      ['dense_102[0][0]']              \n",
            "                                                                                                  \n",
            " multi_head_attention_48 (Multi  (None, 25, 512)     33604096    ['tf.reshape_19[0][0]',          \n",
            " HeadAttention)                                                   'tf.reshape_19[0][0]',          \n",
            "                                                                  'tf.reshape_19[0][0]']          \n",
            "                                                                                                  \n",
            " dense_104 (Dense)              (None, 25, 512)      262656      ['dense_103[0][0]']              \n",
            "                                                                                                  \n",
            " tf.__operators__.add_68 (TFOpL  (None, 25, 512)     0           ['multi_head_attention_48[0][0]',\n",
            " ambda)                                                           'tf.reshape_19[0][0]']          \n",
            "                                                                                                  \n",
            " tf.__operators__.add_67 (TFOpL  (None, 25, 512)     0           ['dense_104[0][0]',              \n",
            " ambda)                                                           'layer_normalization_66[0][0]'] \n",
            "                                                                                                  \n",
            " layer_normalization_68 (LayerN  (None, 25, 512)     1024        ['tf.__operators__.add_68[0][0]']\n",
            " ormalization)                                                                                    \n",
            "                                                                                                  \n",
            " layer_normalization_67 (LayerN  (None, 25, 512)     1024        ['tf.__operators__.add_67[0][0]']\n",
            " ormalization)                                                                                    \n",
            "                                                                                                  \n",
            " multi_head_attention_49 (Multi  (None, 25, 512)     33604096    ['layer_normalization_68[0][0]', \n",
            " HeadAttention)                                                   'layer_normalization_67[0][0]', \n",
            "                                                                  'layer_normalization_67[0][0]'] \n",
            "                                                                                                  \n",
            " tf.__operators__.add_69 (TFOpL  (None, 25, 512)     0           ['layer_normalization_68[0][0]', \n",
            " ambda)                                                           'multi_head_attention_49[0][0]']\n",
            "                                                                                                  \n",
            " layer_normalization_69 (LayerN  (None, 25, 512)     1024        ['tf.__operators__.add_69[0][0]']\n",
            " ormalization)                                                                                    \n",
            "                                                                                                  \n",
            " dense_105 (Dense)              (None, 25, 512)      262656      ['layer_normalization_69[0][0]'] \n",
            "                                                                                                  \n",
            " dense_106 (Dense)              (None, 25, 512)      262656      ['dense_105[0][0]']              \n",
            "                                                                                                  \n",
            " dense_107 (Dense)              (None, 25, 512)      262656      ['dense_106[0][0]']              \n",
            "                                                                                                  \n",
            " global_average_pooling1d_14 (G  (None, 512)         0           ['dense_107[0][0]']              \n",
            " lobalAveragePooling1D)                                                                           \n",
            "                                                                                                  \n",
            " classifier (Dense)             (None, 2)            1026        ['global_average_pooling1d_14[0][\n",
            "                                                                 0]']                             \n",
            "                                                                                                  \n",
            "==================================================================================================\n",
            "Total params: 102,505,922\n",
            "Trainable params: 102,393,346\n",
            "Non-trainable params: 112,576\n",
            "__________________________________________________________________________________________________\n"
          ]
        }
      ],
      "source": [
        "lr = 1e-4\n",
        "model.compile(\n",
        "    optimizer = tf.keras.optimizers.Adam(learning_rate=lr),\n",
        "    loss ='categorical_crossentropy',\n",
        "    metrics = ['accuracy', tf.keras.metrics.AUC()],\n",
        ")\n",
        "model.build(input_shape = (None,96,96,3))\n",
        "model.summary()"
      ]
    },
    {
      "cell_type": "code",
      "execution_count": null,
      "metadata": {
        "colab": {
          "background_save": true,
          "base_uri": "https://localhost:8080/"
        },
        "id": "mO8PERrFQwJD",
        "outputId": "74116d87-562c-4aae-c78f-11e1920b3f26"
      },
      "outputs": [
        {
          "output_type": "stream",
          "name": "stdout",
          "text": [
            "Epoch 1/50\n",
            "  4/125 [..............................] - ETA: 1:01:42 - loss: 0.7471 - accuracy: 0.5352 - auc_1: 0.5845"
          ]
        }
      ],
      "source": [
        "TR_STEPS = len(train_loader)\n",
        "VA_STEPS = len(val_loader)\n",
        "epochs = 50\n",
        "history = model.fit(\n",
        "    x = train_loader,\n",
        "    steps_per_epoch = TR_STEPS,\n",
        "    validation_data = val_loader,\n",
        "    validation_steps = VA_STEPS,\n",
        "    verbose = 1,\n",
        "    epochs=epochs\n",
        ")"
      ]
    },
    {
      "cell_type": "code",
      "execution_count": null,
      "metadata": {
        "colab": {
          "background_save": true
        },
        "id": "iIFK6MF0D2CU",
        "outputId": "ed586dd2-6cd6-41f3-fa8c-78d681b5840b"
      },
      "outputs": [
        {
          "name": "stdout",
          "output_type": "stream",
          "text": [
            "16/16 [==============================] - 459s 31s/step - loss: 0.4573 - accuracy: 0.7790 - auc_2: 0.8672\n"
          ]
        },
        {
          "data": {
            "text/plain": [
              "[0.4572525918483734, 0.7789999842643738, 0.867154061794281]"
            ]
          },
          "execution_count": null,
          "metadata": {},
          "output_type": "execute_result"
        }
      ],
      "source": [
        "model.evaluate(test_loader)"
      ]
    },
    {
      "cell_type": "code",
      "execution_count": null,
      "metadata": {
        "colab": {
          "background_save": true
        },
        "id": "EFHwUL_EP9Kl",
        "outputId": "264c742e-e874-4da0-bf68-7e16ebaa10eb"
      },
      "outputs": [
        {
          "name": "stdout",
          "output_type": "stream",
          "text": [
            "dict_keys(['loss', 'accuracy', 'auc_2', 'val_loss', 'val_accuracy', 'val_auc_2'])\n"
          ]
        },
        {
          "data": {
            "text/plain": [
              "<matplotlib.legend.Legend at 0x7f59831b49d0>"
            ]
          },
          "execution_count": null,
          "metadata": {},
          "output_type": "execute_result"
        },
        {
          "data": {
            "image/png": "[encoded data removed]",
            "text/plain": [
              "<Figure size 720x432 with 2 Axes>"
            ]
          },
          "metadata": {},
          "output_type": "display_data"
        }
      ],
      "source": [
        "history_dict = history.history\n",
        "print(history_dict.keys())\n",
        "\n",
        "acc = history_dict['accuracy']\n",
        "val_acc = history_dict['val_accuracy']\n",
        "loss = history_dict['loss']\n",
        "val_loss = history_dict['val_loss']\n",
        "\n",
        "epochs = range(1, len(acc) + 1)\n",
        "fig = plt.figure(figsize=(10, 6))\n",
        "fig.tight_layout()\n",
        "\n",
        "plt.subplot(2, 1, 1)\n",
        "# r is for \"solid red line\"\n",
        "plt.plot(epochs, loss, 'r', label='Training loss')\n",
        "# b is for \"solid blue line\"\n",
        "plt.plot(epochs, val_loss, 'b', label='Validation loss')\n",
        "plt.title('Training and validation loss')\n",
        "# plt.xlabel('Epochs')\n",
        "plt.ylabel('Loss')\n",
        "plt.legend()\n",
        "\n",
        "plt.subplot(2, 1, 2)\n",
        "plt.plot(epochs, acc, 'r', label='Training acc')\n",
        "plt.plot(epochs, val_acc, 'b', label='Validation acc')\n",
        "plt.title('Training and validation accuracy')\n",
        "plt.xlabel('Epochs')\n",
        "plt.ylabel('Accuracy')\n",
        "plt.legend(loc='lower right')"
      ]
    },
    {
      "cell_type": "code",
      "execution_count": null,
      "metadata": {
        "id": "awoYtqQrAKad"
      },
      "outputs": [],
      "source": [
        "model.save('/content/drive/MyDrive/376_project/vgg19_crop/')"
      ]
    },
    {
      "cell_type": "code",
      "execution_count": null,
      "metadata": {
        "id": "JtB-KgISATw5"
      },
      "outputs": [],
      "source": [
        "model = tf.keras.models.load_model('/content/drive/MyDrive/376_project/vgg19_crop/')\n",
        "model.evaluate(test_loader)"
      ]
    }
  ],
  "metadata": {
    "accelerator": "GPU",
    "colab": {
      "collapsed_sections": [],
      "name": " VGG19_decoder_crop.ipynb",
      "provenance": []
    },
    "kernelspec": {
      "display_name": "Python 3",
      "name": "python3"
    },
    "language_info": {
      "name": "python"
    }
  },
  "nbformat": 4,
  "nbformat_minor": 0
}