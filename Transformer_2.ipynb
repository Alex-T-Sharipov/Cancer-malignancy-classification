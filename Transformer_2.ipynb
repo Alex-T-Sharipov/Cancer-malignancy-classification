{
  "cells": [
    {
      "cell_type": "code",
      "execution_count": 10,
      "metadata": {
        "id": "ttZ16wFrjC1p"
      },
      "outputs": [],
      "source": [
        "import math\n",
        "import numpy as np\n",
        "import pandas as pd\n",
        "import matplotlib.pyplot as plt\n",
        "import matplotlib.image as mpimg\n",
        "import pickle\n",
        "import os\n",
        "import tensorflow as tf\n",
        "import sys\n",
        "from sklearn.model_selection import train_test_split\n",
        "from tensorflow.keras.models import Sequential\n",
        "from tensorflow import keras\n",
        "from tensorflow.keras.layers import *\n",
        "from tensorflow.keras.preprocessing.image import ImageDataGenerator\n",
        "from tensorflow.keras import backend as k"
      ]
    },
    {
      "cell_type": "code",
      "execution_count": 11,
      "metadata": {
        "colab": {
          "base_uri": "https://localhost:8080/"
        },
        "id": "MfLMd4iTlvDq",
        "outputId": "3eb3f2cd-5562-4edf-ef64-33c39fa2ad38"
      },
      "outputs": [
        {
          "output_type": "stream",
          "name": "stdout",
          "text": [
            "Drive already mounted at /content/drive; to attempt to forcibly remount, call drive.mount(\"/content/drive\", force_remount=True).\n"
          ]
        }
      ],
      "source": [
        "from google.colab import drive\n",
        "drive.mount('/content/drive')\n",
        "path = '/content/drive/MyDrive/376_project/newcancerdata/'\n",
        "oldpath = '/content/drive/MyDrive/376_project/cancerdata'\n",
        "BATCH_SIZE = 32"
      ]
    },
    {
      "cell_type": "code",
      "execution_count": 12,
      "metadata": {
        "colab": {
          "base_uri": "https://localhost:8080/"
        },
        "id": "juKkjPtul2PR",
        "outputId": "62326534-aef4-48b1-a6b8-2d9f611e5ada"
      },
      "outputs": [
        {
          "output_type": "stream",
          "name": "stdout",
          "text": [
            "(10000, 3)\n"
          ]
        },
        {
          "output_type": "execute_result",
          "data": {
            "text/plain": [
              "<bound method NDFrame.head of        index                                            id label\n",
              "0         17  0003378267bd3d9964d701ff9e52ddce1b027e46.tif     0\n",
              "1         49  000af35befdd9ab2e24fac80fb6508dfd1edd172.tif     1\n",
              "2         66  0011a007b64a4a0f351ee4d7d00f237b1713b9bf.tif     0\n",
              "3        160  002cf4e8faa1b238d67b3066fbeb382d128bc6e9.tif     0\n",
              "4        183  0033eb6f1ae535166311e5837b006cba336e9200.tif     0\n",
              "...      ...                                           ...   ...\n",
              "9995  219929  ffe4b21fe0e2e13c677a0508aaa2717a0cf2ba08.tif     0\n",
              "9996  219957  ffec122459ed1be2cb4a94009c115113a992813d.tif     0\n",
              "9997  219958  ffec4a03e0a1b8d70e2bab767ac0f1803519e71a.tif     1\n",
              "9998  219981  fff2b1244d1d9492ba0950f3221628add0e1cbd4.tif     0\n",
              "9999  219986  fff3cf6f5992363edf773aa539a98679aad19180.tif     0\n",
              "\n",
              "[10000 rows x 3 columns]>"
            ]
          },
          "metadata": {},
          "execution_count": 12
        }
      ],
      "source": [
        "data = pd.read_csv('/content/drive/MyDrive/376_project/labels.csv', dtype=str)\n",
        "data.id = data.id + '.tif'\n",
        "print(data.shape)\n",
        "data.head\n"
      ]
    },
    {
      "cell_type": "code",
      "execution_count": 13,
      "metadata": {
        "colab": {
          "base_uri": "https://localhost:8080/"
        },
        "id": "p_xLY4CemaEm",
        "outputId": "9a997883-8eb1-4a48-81fa-825d116bef9d"
      },
      "outputs": [
        {
          "output_type": "stream",
          "name": "stdout",
          "text": [
            "Total number of examples in training set : 8000\n",
            "Total number of examples in validation set : 1000\n",
            "Total number of examples in test set : 1000\n"
          ]
        }
      ],
      "source": [
        "train, val_test = train_test_split(data, train_size=0.8, random_state=376, shuffle=True)\n",
        "val, test = train_test_split(val_test, train_size=0.5, random_state=376, shuffle=True)\n",
        "\n",
        "print(f\"Total number of examples in training set : {train.shape[0]}\")\n",
        "print(f\"Total number of examples in validation set : {val.shape[0]}\")\n",
        "print(f\"Total number of examples in test set : {test.shape[0]}\")"
      ]
    },
    {
      "cell_type": "code",
      "execution_count": 14,
      "metadata": {
        "id": "Sq64rVarmh4p"
      },
      "outputs": [],
      "source": [
        "train_datagen = ImageDataGenerator(rescale=1/255,\n",
        "                                   rotation_range=45,\n",
        "                                   vertical_flip=True,\n",
        "                                   horizontal_flip=True,\n",
        "                                   width_shift_range=0.3,\n",
        "                                   height_shift_range=0.3,\n",
        "                                   dtype=tf.float32)\n",
        "val_datagen = ImageDataGenerator(rescale=1/255,\n",
        "                                 dtype=tf.float32)\n",
        "test_datagen = ImageDataGenerator(rescale=1/255,\n",
        "                                  dtype=tf.float32)"
      ]
    },
    {
      "cell_type": "code",
      "execution_count": 15,
      "metadata": {
        "colab": {
          "base_uri": "https://localhost:8080/"
        },
        "id": "br_jJe2mqZfX",
        "outputId": "7b14d931-ecce-45d9-a7b5-febbd248ecf1"
      },
      "outputs": [
        {
          "output_type": "stream",
          "name": "stdout",
          "text": [
            "Found 8000 validated image filenames belonging to 2 classes.\n",
            "Found 1000 validated image filenames belonging to 2 classes.\n",
            "Found 1000 validated image filenames belonging to 2 classes.\n"
          ]
        }
      ],
      "source": [
        "train_loader = train_datagen.flow_from_dataframe(dataframe=train,\n",
        "                                                 directory=oldpath,\n",
        "                                                 x_col='id',\n",
        "                                                 y_col='label',\n",
        "                                                 batch_size=BATCH_SIZE,\n",
        "                                                 seed=376,\n",
        "                                                 shuffle=True,\n",
        "                                                 class_mode='categorical',\n",
        "                                                 target_size=(96,96))\n",
        "\n",
        "val_loader = val_datagen.flow_from_dataframe(dataframe=val,\n",
        "                                             directory=oldpath,\n",
        "                                             x_col='id',\n",
        "                                             y_col='label',\n",
        "                                             batch_size=BATCH_SIZE,\n",
        "                                             seed=376,\n",
        "                                             shuffle=True,\n",
        "                                             class_mode='categorical',\n",
        "                                             target_size=(96,96))\n",
        "\n",
        "test_loader = test_datagen.flow_from_dataframe(dataframe=test,\n",
        "                                               directory=oldpath,\n",
        "                                               x_col='id',\n",
        "                                               y_col='label',\n",
        "                                               batch_size=BATCH_SIZE,\n",
        "                                               seed=376,\n",
        "                                               shuffle=False,\n",
        "                                               class_mode='categorical',\n",
        "                                               target_size=(96,96))"
      ]
    },
    {
      "cell_type": "code",
      "execution_count": 51,
      "metadata": {
        "colab": {
          "base_uri": "https://localhost:8080/"
        },
        "id": "mYIrdJqUEqUS",
        "outputId": "20b6b3f3-8ecf-4b7c-ee0e-aedde9e3cfd7"
      },
      "outputs": [
        {
          "output_type": "stream",
          "name": "stdout",
          "text": [
            "Model: \"model_19\"\n",
            "__________________________________________________________________________________________________\n",
            " Layer (type)                   Output Shape         Param #     Connected to                     \n",
            "==================================================================================================\n",
            " images (InputLayer)            [(None, 96, 96, 3)]  0           []                               \n",
            "                                                                                                  \n",
            " center_crop_21 (CenterCrop)    (None, 32, 32, 3)    0           ['images[0][0]']                 \n",
            "                                                                                                  \n",
            " tf.image.extract_patches_26 (T  (None, 14, 14, 75)  0           ['center_crop_21[0][0]']         \n",
            " FOpLambda)                                                                                       \n",
            "                                                                                                  \n",
            " tf.reshape_26 (TFOpLambda)     (None, 196, 75)      0           ['tf.image.extract_patches_26[0][\n",
            "                                                                 0]']                             \n",
            "                                                                                                  \n",
            " multi_head_attention_66 (Multi  (None, 196, 75)     4964427     ['tf.reshape_26[0][0]',          \n",
            " HeadAttention)                                                   'tf.reshape_26[0][0]',          \n",
            "                                                                  'tf.reshape_26[0][0]']          \n",
            "                                                                                                  \n",
            " tf.__operators__.add_92 (TFOpL  (None, 196, 75)     0           ['multi_head_attention_66[0][0]',\n",
            " ambda)                                                           'tf.reshape_26[0][0]']          \n",
            "                                                                                                  \n",
            " layer_normalization_92 (LayerN  (None, 196, 75)     150         ['tf.__operators__.add_92[0][0]']\n",
            " ormalization)                                                                                    \n",
            "                                                                                                  \n",
            " dense_96 (Dense)               (None, 196, 300)     22800       ['layer_normalization_92[0][0]'] \n",
            "                                                                                                  \n",
            " dense_97 (Dense)               (None, 196, 150)     45150       ['dense_96[0][0]']               \n",
            "                                                                                                  \n",
            " multi_head_attention_67 (Multi  (None, 196, 75)     4964427     ['tf.reshape_26[0][0]',          \n",
            " HeadAttention)                                                   'tf.reshape_26[0][0]',          \n",
            "                                                                  'tf.reshape_26[0][0]']          \n",
            "                                                                                                  \n",
            " dense_98 (Dense)               (None, 196, 75)      11325       ['dense_97[0][0]']               \n",
            "                                                                                                  \n",
            " tf.__operators__.add_94 (TFOpL  (None, 196, 75)     0           ['multi_head_attention_67[0][0]',\n",
            " ambda)                                                           'tf.reshape_26[0][0]']          \n",
            "                                                                                                  \n",
            " tf.__operators__.add_93 (TFOpL  (None, 196, 75)     0           ['dense_98[0][0]',               \n",
            " ambda)                                                           'layer_normalization_92[0][0]'] \n",
            "                                                                                                  \n",
            " layer_normalization_94 (LayerN  (None, 196, 75)     150         ['tf.__operators__.add_94[0][0]']\n",
            " ormalization)                                                                                    \n",
            "                                                                                                  \n",
            " layer_normalization_93 (LayerN  (None, 196, 75)     150         ['tf.__operators__.add_93[0][0]']\n",
            " ormalization)                                                                                    \n",
            "                                                                                                  \n",
            " multi_head_attention_68 (Multi  (None, 196, 75)     4964427     ['layer_normalization_94[0][0]', \n",
            " HeadAttention)                                                   'layer_normalization_93[0][0]', \n",
            "                                                                  'layer_normalization_93[0][0]'] \n",
            "                                                                                                  \n",
            " tf.__operators__.add_95 (TFOpL  (None, 196, 75)     0           ['layer_normalization_94[0][0]', \n",
            " ambda)                                                           'multi_head_attention_68[0][0]']\n",
            "                                                                                                  \n",
            " layer_normalization_95 (LayerN  (None, 196, 75)     150         ['tf.__operators__.add_95[0][0]']\n",
            " ormalization)                                                                                    \n",
            "                                                                                                  \n",
            " dense_99 (Dense)               (None, 196, 300)     22800       ['layer_normalization_95[0][0]'] \n",
            "                                                                                                  \n",
            " dense_100 (Dense)              (None, 196, 150)     45150       ['dense_99[0][0]']               \n",
            "                                                                                                  \n",
            " dense_101 (Dense)              (None, 196, 75)      11325       ['dense_100[0][0]']              \n",
            "                                                                                                  \n",
            " global_average_pooling1d_20 (G  (None, 75)          0           ['dense_101[0][0]']              \n",
            " lobalAveragePooling1D)                                                                           \n",
            "                                                                                                  \n",
            " classifier (Dense)             (None, 2)            152         ['global_average_pooling1d_20[0][\n",
            "                                                                 0]']                             \n",
            "                                                                                                  \n",
            "==================================================================================================\n",
            "Total params: 15,052,583\n",
            "Trainable params: 15,052,583\n",
            "Non-trainable params: 0\n",
            "__________________________________________________________________________________________________\n"
          ]
        }
      ],
      "source": [
        "import tensorflow as tf\n",
        "\n",
        "heads = 32\n",
        "key_dim = 512\n",
        "\n",
        "def build_classifier_model():\n",
        "  raw_images = tf.keras.layers.Input(shape=(96,96,3), dtype=tf.float32, name='images')\n",
        "  images = tf.keras.layers.CenterCrop(32,32)(raw_images) # 32,32,3\n",
        "  patches = tf.image.extract_patches(\n",
        "              images=images,\n",
        "              sizes=[1, 5, 5, 1],\n",
        "              strides=[1, 2, 2, 1],\n",
        "              rates=[1, 1, 1, 1],\n",
        "              padding=\"VALID\",\n",
        "          ) #14,14,75\n",
        "  input_sequence = tf.reshape(patches, shape=[-1, 196, 75])\n",
        "\n",
        "  #Encoder 1\n",
        "  at1 = tf.keras.layers.MultiHeadAttention(num_heads=heads,key_dim=key_dim,)(query=input_sequence, value=input_sequence, key=input_sequence) # (None, 196, 75)\n",
        "  norm1 = tf.keras.layers.LayerNormalization(axis=-1)(at1 + input_sequence) # (None, 196, 75)\n",
        "  feed = tf.keras.layers.Dense(300, activation='relu')(norm1)\n",
        "  feed = tf.keras.layers.Dense(150, activation='relu')(feed)\n",
        "  feed = tf.keras.layers.Dense(75, activation='relu')(feed)\n",
        "  norm2 = tf.keras.layers.LayerNormalization(axis=-1)(feed + norm1) # (None, 196, 75)\n",
        "\n",
        "  #Decoder 1\n",
        "  at1 = tf.keras.layers.MultiHeadAttention(num_heads=heads,key_dim=key_dim,)(query=input_sequence, value=input_sequence, key=input_sequence) # (None, 196, 75)\n",
        "  dec_norm1 = tf.keras.layers.LayerNormalization(axis=-1)(at1 + input_sequence) # (None, 196, 75)\n",
        "  at2 = tf.keras.layers.MultiHeadAttention(num_heads=heads,key_dim=key_dim)(query=dec_norm1, value=norm2, key=norm2)  # (None, 196, 75)\n",
        "  dec_norm2 = tf.keras.layers.LayerNormalization(axis=-1)(dec_norm1 + at2)  # (None, 196, 75)\n",
        "  feed = tf.keras.layers.Dense(300, activation='relu')(dec_norm2)\n",
        "  feed = tf.keras.layers.Dense(150, activation='relu')(feed)\n",
        "  feed = tf.keras.layers.Dense(75, activation='relu')(feed)\n",
        "  pool = tf.keras.layers.GlobalAveragePooling1D()(feed)\n",
        "  net = tf.keras.layers.Dense(2, activation='softmax', name='classifier')(pool)\n",
        "  return tf.keras.Model(raw_images, net)\n",
        "  \n",
        "model = build_classifier_model()\n",
        "model.summary()"
      ]
    },
    {
      "cell_type": "code",
      "source": [
        "lr = 1e-4\n",
        "model.compile(\n",
        "    optimizer = tf.keras.optimizers.Adam(learning_rate=lr),\n",
        "    loss ='categorical_crossentropy',\n",
        "    metrics = ['accuracy', tf.keras.metrics.AUC()],\n",
        ")"
      ],
      "metadata": {
        "id": "1Udd-AyMyFEC"
      },
      "execution_count": 52,
      "outputs": []
    },
    {
      "cell_type": "code",
      "execution_count": 55,
      "metadata": {
        "colab": {
          "base_uri": "https://localhost:8080/"
        },
        "id": "mO8PERrFQwJD",
        "outputId": "ddc90b1c-27fa-4d69-fb46-23c057b71046"
      },
      "outputs": [
        {
          "output_type": "stream",
          "name": "stdout",
          "text": [
            "Epoch 1/50\n",
            "250/250 [==============================] - 1194s 5s/step - loss: 0.5786 - accuracy: 0.7051 - auc_5: 0.7669 - val_loss: 0.5342 - val_accuracy: 0.7510 - val_auc_5: 0.8207\n",
            "Epoch 2/50\n",
            "250/250 [==============================] - 123s 491ms/step - loss: 0.5568 - accuracy: 0.7240 - auc_5: 0.7886 - val_loss: 0.5483 - val_accuracy: 0.7340 - val_auc_5: 0.8024\n",
            "Epoch 3/50\n",
            "250/250 [==============================] - 123s 491ms/step - loss: 0.5456 - accuracy: 0.7381 - auc_5: 0.7991 - val_loss: 0.4983 - val_accuracy: 0.7800 - val_auc_5: 0.8426\n",
            "Epoch 4/50\n",
            "250/250 [==============================] - 123s 491ms/step - loss: 0.5440 - accuracy: 0.7322 - auc_5: 0.8007 - val_loss: 0.5166 - val_accuracy: 0.7590 - val_auc_5: 0.8310\n",
            "Epoch 5/50\n",
            "250/250 [==============================] - 123s 491ms/step - loss: 0.5333 - accuracy: 0.7427 - auc_5: 0.8103 - val_loss: 0.4990 - val_accuracy: 0.7580 - val_auc_5: 0.8421\n",
            "Epoch 6/50\n",
            "250/250 [==============================] - 123s 491ms/step - loss: 0.5302 - accuracy: 0.7420 - auc_5: 0.8126 - val_loss: 0.4881 - val_accuracy: 0.7740 - val_auc_5: 0.8477\n",
            "Epoch 7/50\n",
            "250/250 [==============================] - 123s 491ms/step - loss: 0.5274 - accuracy: 0.7446 - auc_5: 0.8150 - val_loss: 0.4797 - val_accuracy: 0.7730 - val_auc_5: 0.8531\n",
            "Epoch 8/50\n",
            "250/250 [==============================] - 123s 491ms/step - loss: 0.5274 - accuracy: 0.7486 - auc_5: 0.8151 - val_loss: 0.4863 - val_accuracy: 0.7690 - val_auc_5: 0.8478\n",
            "Epoch 9/50\n",
            "250/250 [==============================] - 123s 491ms/step - loss: 0.5300 - accuracy: 0.7430 - auc_5: 0.8130 - val_loss: 0.4731 - val_accuracy: 0.7770 - val_auc_5: 0.8612\n",
            "Epoch 10/50\n",
            "250/250 [==============================] - 123s 491ms/step - loss: 0.5181 - accuracy: 0.7521 - auc_5: 0.8228 - val_loss: 0.4749 - val_accuracy: 0.7890 - val_auc_5: 0.8611\n",
            "Epoch 11/50\n",
            "250/250 [==============================] - 123s 491ms/step - loss: 0.5147 - accuracy: 0.7573 - auc_5: 0.8254 - val_loss: 0.4835 - val_accuracy: 0.7670 - val_auc_5: 0.8494\n",
            "Epoch 12/50\n",
            "250/250 [==============================] - 123s 491ms/step - loss: 0.5063 - accuracy: 0.7566 - auc_5: 0.8322 - val_loss: 0.4774 - val_accuracy: 0.7960 - val_auc_5: 0.8651\n",
            "Epoch 13/50\n",
            "250/250 [==============================] - 123s 491ms/step - loss: 0.5106 - accuracy: 0.7569 - auc_5: 0.8289 - val_loss: 0.4763 - val_accuracy: 0.7850 - val_auc_5: 0.8546\n",
            "Epoch 14/50\n",
            "250/250 [==============================] - 123s 491ms/step - loss: 0.5173 - accuracy: 0.7548 - auc_5: 0.8235 - val_loss: 0.4796 - val_accuracy: 0.7850 - val_auc_5: 0.8516\n",
            "Epoch 15/50\n",
            "250/250 [==============================] - 123s 491ms/step - loss: 0.5002 - accuracy: 0.7619 - auc_5: 0.8367 - val_loss: 0.4845 - val_accuracy: 0.7550 - val_auc_5: 0.8491\n",
            "Epoch 16/50\n",
            "250/250 [==============================] - 123s 491ms/step - loss: 0.5044 - accuracy: 0.7636 - auc_5: 0.8340 - val_loss: 0.4491 - val_accuracy: 0.7910 - val_auc_5: 0.8726\n",
            "Epoch 17/50\n",
            "250/250 [==============================] - 123s 491ms/step - loss: 0.5016 - accuracy: 0.7651 - auc_5: 0.8359 - val_loss: 0.4473 - val_accuracy: 0.7980 - val_auc_5: 0.8792\n",
            "Epoch 18/50\n",
            "250/250 [==============================] - 123s 491ms/step - loss: 0.5037 - accuracy: 0.7650 - auc_5: 0.8341 - val_loss: 0.4467 - val_accuracy: 0.7990 - val_auc_5: 0.8756\n",
            "Epoch 19/50\n",
            "250/250 [==============================] - 123s 491ms/step - loss: 0.4940 - accuracy: 0.7690 - auc_5: 0.8415 - val_loss: 0.4590 - val_accuracy: 0.7860 - val_auc_5: 0.8667\n",
            "Epoch 20/50\n",
            "250/250 [==============================] - 123s 491ms/step - loss: 0.4988 - accuracy: 0.7645 - auc_5: 0.8377 - val_loss: 0.4478 - val_accuracy: 0.7910 - val_auc_5: 0.8746\n",
            "Epoch 21/50\n",
            "250/250 [==============================] - 123s 491ms/step - loss: 0.4888 - accuracy: 0.7735 - auc_5: 0.8453 - val_loss: 0.4730 - val_accuracy: 0.7680 - val_auc_5: 0.8626\n",
            "Epoch 22/50\n",
            "250/250 [==============================] - 123s 491ms/step - loss: 0.4960 - accuracy: 0.7663 - auc_5: 0.8401 - val_loss: 0.4518 - val_accuracy: 0.7740 - val_auc_5: 0.8720\n",
            "Epoch 23/50\n",
            "250/250 [==============================] - 123s 491ms/step - loss: 0.4901 - accuracy: 0.7711 - auc_5: 0.8444 - val_loss: 0.4630 - val_accuracy: 0.7890 - val_auc_5: 0.8633\n",
            "Epoch 24/50\n",
            "250/250 [==============================] - 123s 491ms/step - loss: 0.4913 - accuracy: 0.7697 - auc_5: 0.8435 - val_loss: 0.4545 - val_accuracy: 0.7850 - val_auc_5: 0.8692\n",
            "Epoch 25/50\n",
            "250/250 [==============================] - 123s 491ms/step - loss: 0.4842 - accuracy: 0.7747 - auc_5: 0.8485 - val_loss: 0.4494 - val_accuracy: 0.7920 - val_auc_5: 0.8735\n",
            "Epoch 26/50\n",
            "250/250 [==============================] - 123s 491ms/step - loss: 0.4888 - accuracy: 0.7697 - auc_5: 0.8453 - val_loss: 0.4374 - val_accuracy: 0.7910 - val_auc_5: 0.8797\n",
            "Epoch 27/50\n",
            "250/250 [==============================] - 123s 491ms/step - loss: 0.4853 - accuracy: 0.7766 - auc_5: 0.8480 - val_loss: 0.4706 - val_accuracy: 0.7890 - val_auc_5: 0.8601\n",
            "Epoch 28/50\n",
            "250/250 [==============================] - 123s 491ms/step - loss: 0.4774 - accuracy: 0.7793 - auc_5: 0.8535 - val_loss: 0.4536 - val_accuracy: 0.7860 - val_auc_5: 0.8692\n",
            "Epoch 29/50\n",
            "250/250 [==============================] - 123s 491ms/step - loss: 0.4767 - accuracy: 0.7782 - auc_5: 0.8540 - val_loss: 0.4532 - val_accuracy: 0.7940 - val_auc_5: 0.8703\n",
            "Epoch 30/50\n",
            "250/250 [==============================] - 123s 491ms/step - loss: 0.4844 - accuracy: 0.7728 - auc_5: 0.8481 - val_loss: 0.4298 - val_accuracy: 0.8000 - val_auc_5: 0.8857\n",
            "Epoch 31/50\n",
            "250/250 [==============================] - 123s 491ms/step - loss: 0.4776 - accuracy: 0.7782 - auc_5: 0.8534 - val_loss: 0.4934 - val_accuracy: 0.7690 - val_auc_5: 0.8431\n",
            "Epoch 32/50\n",
            "250/250 [==============================] - 123s 491ms/step - loss: 0.4785 - accuracy: 0.7746 - auc_5: 0.8527 - val_loss: 0.4405 - val_accuracy: 0.7940 - val_auc_5: 0.8791\n",
            "Epoch 33/50\n",
            "250/250 [==============================] - 123s 491ms/step - loss: 0.4796 - accuracy: 0.7778 - auc_5: 0.8518 - val_loss: 0.4762 - val_accuracy: 0.7740 - val_auc_5: 0.8649\n",
            "Epoch 34/50\n",
            "250/250 [==============================] - 123s 491ms/step - loss: 0.4770 - accuracy: 0.7782 - auc_5: 0.8536 - val_loss: 0.4375 - val_accuracy: 0.7940 - val_auc_5: 0.8797\n",
            "Epoch 35/50\n",
            "250/250 [==============================] - 123s 491ms/step - loss: 0.4659 - accuracy: 0.7886 - auc_5: 0.8612 - val_loss: 0.4847 - val_accuracy: 0.7600 - val_auc_5: 0.8540\n",
            "Epoch 36/50\n",
            "250/250 [==============================] - 123s 491ms/step - loss: 0.4770 - accuracy: 0.7791 - auc_5: 0.8536 - val_loss: 0.4854 - val_accuracy: 0.7730 - val_auc_5: 0.8488\n",
            "Epoch 37/50\n",
            "250/250 [==============================] - 123s 491ms/step - loss: 0.4692 - accuracy: 0.7846 - auc_5: 0.8590 - val_loss: 0.4309 - val_accuracy: 0.7980 - val_auc_5: 0.8840\n",
            "Epoch 38/50\n",
            "250/250 [==============================] - 123s 491ms/step - loss: 0.4713 - accuracy: 0.7815 - auc_5: 0.8576 - val_loss: 0.4689 - val_accuracy: 0.7780 - val_auc_5: 0.8628\n",
            "Epoch 39/50\n",
            "250/250 [==============================] - 123s 491ms/step - loss: 0.4685 - accuracy: 0.7846 - auc_5: 0.8594 - val_loss: 0.4693 - val_accuracy: 0.7810 - val_auc_5: 0.8620\n",
            "Epoch 40/50\n",
            "250/250 [==============================] - 123s 491ms/step - loss: 0.4754 - accuracy: 0.7786 - auc_5: 0.8548 - val_loss: 0.4337 - val_accuracy: 0.8060 - val_auc_5: 0.8850\n",
            "Epoch 41/50\n",
            "250/250 [==============================] - 123s 491ms/step - loss: 0.4645 - accuracy: 0.7843 - auc_5: 0.8619 - val_loss: 0.4178 - val_accuracy: 0.8020 - val_auc_5: 0.8912\n",
            "Epoch 42/50\n",
            "250/250 [==============================] - 123s 491ms/step - loss: 0.4694 - accuracy: 0.7843 - auc_5: 0.8588 - val_loss: 0.4300 - val_accuracy: 0.8020 - val_auc_5: 0.8841\n",
            "Epoch 43/50\n",
            "250/250 [==============================] - 123s 491ms/step - loss: 0.4702 - accuracy: 0.7797 - auc_5: 0.8582 - val_loss: 0.4359 - val_accuracy: 0.7990 - val_auc_5: 0.8797\n",
            "Epoch 44/50\n",
            "250/250 [==============================] - 123s 491ms/step - loss: 0.4705 - accuracy: 0.7825 - auc_5: 0.8581 - val_loss: 0.4480 - val_accuracy: 0.7940 - val_auc_5: 0.8739\n",
            "Epoch 45/50\n",
            "250/250 [==============================] - 123s 491ms/step - loss: 0.4654 - accuracy: 0.7890 - auc_5: 0.8615 - val_loss: 0.4472 - val_accuracy: 0.8000 - val_auc_5: 0.8746\n",
            "Epoch 46/50\n",
            "250/250 [==============================] - 123s 491ms/step - loss: 0.4690 - accuracy: 0.7851 - auc_5: 0.8591 - val_loss: 0.4245 - val_accuracy: 0.8110 - val_auc_5: 0.8871\n",
            "Epoch 47/50\n",
            "250/250 [==============================] - 123s 491ms/step - loss: 0.4618 - accuracy: 0.7903 - auc_5: 0.8639 - val_loss: 0.4690 - val_accuracy: 0.7720 - val_auc_5: 0.8632\n",
            "Epoch 48/50\n",
            "250/250 [==============================] - 123s 491ms/step - loss: 0.4671 - accuracy: 0.7806 - auc_5: 0.8602 - val_loss: 0.4222 - val_accuracy: 0.8170 - val_auc_5: 0.8936\n",
            "Epoch 49/50\n",
            "250/250 [==============================] - 123s 491ms/step - loss: 0.4770 - accuracy: 0.7784 - auc_5: 0.8538 - val_loss: 0.4189 - val_accuracy: 0.8110 - val_auc_5: 0.8926\n",
            "Epoch 50/50\n",
            "250/250 [==============================] - 123s 491ms/step - loss: 0.4693 - accuracy: 0.7844 - auc_5: 0.8587 - val_loss: 0.4643 - val_accuracy: 0.7710 - val_auc_5: 0.8640\n"
          ]
        }
      ],
      "source": [
        "TR_STEPS = len(train_loader)\n",
        "VA_STEPS = len(val_loader)\n",
        "epochs = 50\n",
        "history = model.fit(\n",
        "    x = train_loader,\n",
        "    steps_per_epoch = TR_STEPS,\n",
        "    validation_data = val_loader,\n",
        "    validation_steps = VA_STEPS,\n",
        "    verbose = 1,\n",
        "    epochs=epochs\n",
        ")"
      ]
    },
    {
      "cell_type": "code",
      "source": [
        "model.evaluate(test_loader)"
      ],
      "metadata": {
        "id": "iIFK6MF0D2CU",
        "colab": {
          "base_uri": "https://localhost:8080/"
        },
        "outputId": "4006ae8e-ca95-426a-b15a-d2f53fa82de9"
      },
      "execution_count": 56,
      "outputs": [
        {
          "output_type": "stream",
          "name": "stdout",
          "text": [
            "32/32 [==============================] - 279s 9s/step - loss: 0.5096 - accuracy: 0.7480 - auc_5: 0.8358\n"
          ]
        },
        {
          "output_type": "execute_result",
          "data": {
            "text/plain": [
              "[0.5096154808998108, 0.7480000257492065, 0.835826575756073]"
            ]
          },
          "metadata": {},
          "execution_count": 56
        }
      ]
    },
    {
      "cell_type": "code",
      "source": [
        "model.save('/content/drive/MyDrive/376_project/transformer/')\n",
        "model = tf.keras.models.load_model('/content/drive/MyDrive/376_project/transformer/')\n",
        "model.evaluate(test_loader)"
      ],
      "metadata": {
        "colab": {
          "base_uri": "https://localhost:8080/"
        },
        "id": "hbC6yvbvMwJ6",
        "outputId": "035cd7a0-d3e2-4c76-fd38-a26e0af1521e"
      },
      "execution_count": 58,
      "outputs": [
        {
          "output_type": "stream",
          "name": "stderr",
          "text": [
            "WARNING:absl:Found untraced functions such as query_layer_call_fn, query_layer_call_and_return_conditional_losses, key_layer_call_fn, key_layer_call_and_return_conditional_losses, value_layer_call_fn while saving (showing 5 of 36). These functions will not be directly callable after loading.\n"
          ]
        },
        {
          "output_type": "stream",
          "name": "stdout",
          "text": [
            "INFO:tensorflow:Assets written to: /content/drive/MyDrive/376_project/transformer/assets\n"
          ]
        },
        {
          "output_type": "stream",
          "name": "stderr",
          "text": [
            "INFO:tensorflow:Assets written to: /content/drive/MyDrive/376_project/transformer/assets\n"
          ]
        },
        {
          "output_type": "stream",
          "name": "stdout",
          "text": [
            "32/32 [==============================] - 7s 193ms/step - loss: 0.5096 - accuracy: 0.7480 - auc_5: 0.8358\n"
          ]
        },
        {
          "output_type": "execute_result",
          "data": {
            "text/plain": [
              "[0.5096154808998108, 0.7480000257492065, 0.835826575756073]"
            ]
          },
          "metadata": {},
          "execution_count": 58
        }
      ]
    },
    {
      "cell_type": "code",
      "source": [
        "history_dict = history.history\n",
        "print(history_dict.keys())\n",
        "\n",
        "acc = history_dict['accuracy']\n",
        "val_acc = history_dict['val_accuracy']\n",
        "loss = history_dict['loss']\n",
        "val_loss = history_dict['val_loss']\n",
        "\n",
        "epochs = range(1, len(acc) + 1)\n",
        "fig = plt.figure(figsize=(10, 6))\n",
        "fig.tight_layout()\n",
        "\n",
        "plt.subplot(2, 1, 1)\n",
        "# r is for \"solid red line\"\n",
        "plt.plot(epochs, loss, 'r', label='Training loss')\n",
        "# b is for \"solid blue line\"\n",
        "plt.plot(epochs, val_loss, 'b', label='Validation loss')\n",
        "plt.title('Training and validation loss')\n",
        "# plt.xlabel('Epochs')\n",
        "plt.ylabel('Loss')\n",
        "plt.legend()\n",
        "\n",
        "plt.subplot(2, 1, 2)\n",
        "plt.plot(epochs, acc, 'r', label='Training acc')\n",
        "plt.plot(epochs, val_acc, 'b', label='Validation acc')\n",
        "plt.title('Training and validation accuracy')\n",
        "plt.xlabel('Epochs')\n",
        "plt.ylabel('Accuracy')\n",
        "plt.legend(loc='lower right')"
      ],
      "metadata": {
        "id": "EFHwUL_EP9Kl",
        "colab": {
          "base_uri": "https://localhost:8080/",
          "height": 439
        },
        "outputId": "c735cacf-da08-4e13-bb10-75c1e3d73764"
      },
      "execution_count": 60,
      "outputs": [
        {
          "output_type": "stream",
          "name": "stdout",
          "text": [
            "dict_keys(['loss', 'accuracy', 'auc_5', 'val_loss', 'val_accuracy', 'val_auc_5'])\n"
          ]
        },
        {
          "output_type": "execute_result",
          "data": {
            "text/plain": [
              "<matplotlib.legend.Legend at 0x7f9a2005cd10>"
            ]
          },
          "metadata": {},
          "execution_count": 60
        },
        {
          "output_type": "display_data",
          "data": {
            "text/plain": [
              "<Figure size 720x432 with 2 Axes>"
            ],
            "image/png": "[encoded data removed]"
          },
          "metadata": {
            "needs_background": "light"
          }
        }
      ]
    }
  ],
  "metadata": {
    "accelerator": "GPU",
    "colab": {
      "collapsed_sections": [],
      "name": "Transformer for cancer.ipynb",
      "provenance": [],
      "machine_shape": "hm"
    },
    "kernelspec": {
      "display_name": "Python 3",
      "name": "python3"
    },
    "language_info": {
      "name": "python"
    }
  },
  "nbformat": 4,
  "nbformat_minor": 0
}