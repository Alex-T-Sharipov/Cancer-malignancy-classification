{
  "cells": [
    {
      "cell_type": "code",
      "execution_count": 1,
      "metadata": {
        "id": "ttZ16wFrjC1p"
      },
      "outputs": [],
      "source": [
        "import math\n",
        "import numpy as np\n",
        "import pandas as pd\n",
        "import matplotlib.pyplot as plt\n",
        "import matplotlib.image as mpimg\n",
        "import pickle\n",
        "import os\n",
        "import tensorflow as tf\n",
        "import sys\n",
        "from sklearn.model_selection import train_test_split\n",
        "from tensorflow.keras.models import Sequential\n",
        "from tensorflow import keras\n",
        "from tensorflow.keras.layers import *\n",
        "from tensorflow.keras.preprocessing.image import ImageDataGenerator\n",
        "from tensorflow.keras import backend as k"
      ]
    },
    {
      "cell_type": "code",
      "execution_count": 2,
      "metadata": {
        "colab": {
          "base_uri": "https://localhost:8080/"
        },
        "id": "MfLMd4iTlvDq",
        "outputId": "f5081d2b-225e-46b0-9624-10af932a5a7c"
      },
      "outputs": [
        {
          "output_type": "stream",
          "name": "stdout",
          "text": [
            "Mounted at /content/drive\n"
          ]
        }
      ],
      "source": [
        "from google.colab import drive\n",
        "drive.mount('/content/drive')\n",
        "path = '/content/drive/MyDrive/376_project/newcancerdata/'\n",
        "oldpath = '/content/drive/MyDrive/376_project/cancerdata'\n",
        "BATCH_SIZE = 64"
      ]
    },
    {
      "cell_type": "code",
      "execution_count": 3,
      "metadata": {
        "colab": {
          "base_uri": "https://localhost:8080/"
        },
        "id": "juKkjPtul2PR",
        "outputId": "69bc6b69-0a46-4bbe-dbba-c8b3fa9af852"
      },
      "outputs": [
        {
          "output_type": "stream",
          "name": "stdout",
          "text": [
            "(10000, 3)\n"
          ]
        },
        {
          "output_type": "execute_result",
          "data": {
            "text/plain": [
              "<bound method NDFrame.head of        index                                            id label\n",
              "0         17  0003378267bd3d9964d701ff9e52ddce1b027e46.tif     0\n",
              "1         49  000af35befdd9ab2e24fac80fb6508dfd1edd172.tif     1\n",
              "2         66  0011a007b64a4a0f351ee4d7d00f237b1713b9bf.tif     0\n",
              "3        160  002cf4e8faa1b238d67b3066fbeb382d128bc6e9.tif     0\n",
              "4        183  0033eb6f1ae535166311e5837b006cba336e9200.tif     0\n",
              "...      ...                                           ...   ...\n",
              "9995  219929  ffe4b21fe0e2e13c677a0508aaa2717a0cf2ba08.tif     0\n",
              "9996  219957  ffec122459ed1be2cb4a94009c115113a992813d.tif     0\n",
              "9997  219958  ffec4a03e0a1b8d70e2bab767ac0f1803519e71a.tif     1\n",
              "9998  219981  fff2b1244d1d9492ba0950f3221628add0e1cbd4.tif     0\n",
              "9999  219986  fff3cf6f5992363edf773aa539a98679aad19180.tif     0\n",
              "\n",
              "[10000 rows x 3 columns]>"
            ]
          },
          "metadata": {},
          "execution_count": 3
        }
      ],
      "source": [
        "data = pd.read_csv('/content/drive/MyDrive/376_project/labels.csv', dtype=str)\n",
        "data.id = data.id + '.tif'\n",
        "print(data.shape)\n",
        "data.head\n"
      ]
    },
    {
      "cell_type": "code",
      "execution_count": 4,
      "metadata": {
        "colab": {
          "base_uri": "https://localhost:8080/"
        },
        "id": "p_xLY4CemaEm",
        "outputId": "3213a71c-6c1b-4f95-9402-85ad381880b6"
      },
      "outputs": [
        {
          "output_type": "stream",
          "name": "stdout",
          "text": [
            "Total number of examples in training set : 8000\n",
            "Total number of examples in validation set : 1000\n",
            "Total number of examples in test set : 1000\n"
          ]
        }
      ],
      "source": [
        "train, val_test = train_test_split(data, train_size=0.8, random_state=376, shuffle=True)\n",
        "val, test = train_test_split(val_test, train_size=0.5, random_state=376, shuffle=True)\n",
        "\n",
        "print(f\"Total number of examples in training set : {train.shape[0]}\")\n",
        "print(f\"Total number of examples in validation set : {val.shape[0]}\")\n",
        "print(f\"Total number of examples in test set : {test.shape[0]}\")"
      ]
    },
    {
      "cell_type": "code",
      "execution_count": 5,
      "metadata": {
        "id": "Sq64rVarmh4p"
      },
      "outputs": [],
      "source": [
        "train_datagen = ImageDataGenerator(rescale=1/255,\n",
        "                                   rotation_range=45,\n",
        "                                   vertical_flip=True,\n",
        "                                   horizontal_flip=True,\n",
        "                                   width_shift_range=0.3,\n",
        "                                   height_shift_range=0.3,\n",
        "                                   dtype=tf.float32)\n",
        "val_datagen = ImageDataGenerator(rescale=1/255,\n",
        "                                 dtype=tf.float32)\n",
        "test_datagen = ImageDataGenerator(rescale=1/255,\n",
        "                                  dtype=tf.float32)"
      ]
    },
    {
      "cell_type": "code",
      "execution_count": 6,
      "metadata": {
        "colab": {
          "base_uri": "https://localhost:8080/"
        },
        "id": "br_jJe2mqZfX",
        "outputId": "724392b0-9d4b-46b4-a04e-a412ecc345d0"
      },
      "outputs": [
        {
          "output_type": "stream",
          "name": "stdout",
          "text": [
            "Found 8000 validated image filenames belonging to 2 classes.\n",
            "Found 1000 validated image filenames belonging to 2 classes.\n",
            "Found 1000 validated image filenames belonging to 2 classes.\n"
          ]
        }
      ],
      "source": [
        "train_loader = train_datagen.flow_from_dataframe(dataframe=train,\n",
        "                                                 directory=oldpath,\n",
        "                                                 x_col='id',\n",
        "                                                 y_col='label',\n",
        "                                                 batch_size=BATCH_SIZE,\n",
        "                                                 seed=376,\n",
        "                                                 shuffle=True,\n",
        "                                                 class_mode='categorical',\n",
        "                                                 target_size=(96,96))\n",
        "\n",
        "val_loader = val_datagen.flow_from_dataframe(dataframe=val,\n",
        "                                             directory=oldpath,\n",
        "                                             x_col='id',\n",
        "                                             y_col='label',\n",
        "                                             batch_size=BATCH_SIZE,\n",
        "                                             seed=376,\n",
        "                                             shuffle=True,\n",
        "                                             class_mode='categorical',\n",
        "                                             target_size=(96,96))\n",
        "\n",
        "test_loader = test_datagen.flow_from_dataframe(dataframe=test,\n",
        "                                               directory=oldpath,\n",
        "                                               x_col='id',\n",
        "                                               y_col='label',\n",
        "                                               batch_size=BATCH_SIZE,\n",
        "                                               seed=376,\n",
        "                                               shuffle=False,\n",
        "                                               class_mode='categorical',\n",
        "                                               target_size=(96,96))"
      ]
    },
    {
      "cell_type": "code",
      "execution_count": 7,
      "metadata": {
        "colab": {
          "base_uri": "https://localhost:8080/"
        },
        "id": "mYIrdJqUEqUS",
        "outputId": "e0b72acc-a008-4c8f-c3db-851503ffd57b"
      },
      "outputs": [
        {
          "output_type": "stream",
          "name": "stdout",
          "text": [
            "Downloading data from https://storage.googleapis.com/tensorflow/keras-applications/vgg19/vgg19_weights_tf_dim_ordering_tf_kernels_notop.h5\n",
            "80142336/80134624 [==============================] - 0s 0us/step\n",
            "80150528/80134624 [==============================] - 0s 0us/step\n"
          ]
        }
      ],
      "source": [
        "base_model = tf.keras.applications.vgg19.VGG19(\n",
        "                                          input_shape=(32,32,3),\n",
        "                                          include_top=False,\n",
        "                                          weights='imagenet'\n",
        ")\n",
        "base_model.trainable = False"
      ]
    },
    {
      "cell_type": "code",
      "execution_count": 8,
      "metadata": {
        "colab": {
          "base_uri": "https://localhost:8080/"
        },
        "id": "Z1U9j43sFraR",
        "outputId": "b19ae20e-9be3-40d2-9469-1383b34c2bb7"
      },
      "outputs": [
        {
          "output_type": "stream",
          "name": "stdout",
          "text": [
            "Model: \"vgg19\"\n",
            "_________________________________________________________________\n",
            " Layer (type)                Output Shape              Param #   \n",
            "=================================================================\n",
            " input_1 (InputLayer)        [(None, 32, 32, 3)]       0         \n",
            "                                                                 \n",
            " block1_conv1 (Conv2D)       (None, 32, 32, 64)        1792      \n",
            "                                                                 \n",
            " block1_conv2 (Conv2D)       (None, 32, 32, 64)        36928     \n",
            "                                                                 \n",
            " block1_pool (MaxPooling2D)  (None, 16, 16, 64)        0         \n",
            "                                                                 \n",
            " block2_conv1 (Conv2D)       (None, 16, 16, 128)       73856     \n",
            "                                                                 \n",
            " block2_conv2 (Conv2D)       (None, 16, 16, 128)       147584    \n",
            "                                                                 \n",
            " block2_pool (MaxPooling2D)  (None, 8, 8, 128)         0         \n",
            "                                                                 \n",
            " block3_conv1 (Conv2D)       (None, 8, 8, 256)         295168    \n",
            "                                                                 \n",
            " block3_conv2 (Conv2D)       (None, 8, 8, 256)         590080    \n",
            "                                                                 \n",
            " block3_conv3 (Conv2D)       (None, 8, 8, 256)         590080    \n",
            "                                                                 \n",
            " block3_conv4 (Conv2D)       (None, 8, 8, 256)         590080    \n",
            "                                                                 \n",
            " block3_pool (MaxPooling2D)  (None, 4, 4, 256)         0         \n",
            "                                                                 \n",
            " block4_conv1 (Conv2D)       (None, 4, 4, 512)         1180160   \n",
            "                                                                 \n",
            " block4_conv2 (Conv2D)       (None, 4, 4, 512)         2359808   \n",
            "                                                                 \n",
            " block4_conv3 (Conv2D)       (None, 4, 4, 512)         2359808   \n",
            "                                                                 \n",
            " block4_conv4 (Conv2D)       (None, 4, 4, 512)         2359808   \n",
            "                                                                 \n",
            " block4_pool (MaxPooling2D)  (None, 2, 2, 512)         0         \n",
            "                                                                 \n",
            " block5_conv1 (Conv2D)       (None, 2, 2, 512)         2359808   \n",
            "                                                                 \n",
            " block5_conv2 (Conv2D)       (None, 2, 2, 512)         2359808   \n",
            "                                                                 \n",
            " block5_conv3 (Conv2D)       (None, 2, 2, 512)         2359808   \n",
            "                                                                 \n",
            " block5_conv4 (Conv2D)       (None, 2, 2, 512)         2359808   \n",
            "                                                                 \n",
            " block5_pool (MaxPooling2D)  (None, 1, 1, 512)         0         \n",
            "                                                                 \n",
            "=================================================================\n",
            "Total params: 20,024,384\n",
            "Trainable params: 0\n",
            "Non-trainable params: 20,024,384\n",
            "_________________________________________________________________\n"
          ]
        }
      ],
      "source": [
        "base_model.summary()"
      ]
    },
    {
      "cell_type": "code",
      "execution_count": 9,
      "metadata": {
        "id": "MYEdnVLjJQRL"
      },
      "outputs": [],
      "source": [
        "model = tf.keras.Sequential([\n",
        "    tf.keras.layers.CenterCrop(32,32),\n",
        "    base_model,\n",
        "    tf.keras.layers.Flatten(),\n",
        "    tf.keras.layers.Dense(8, activation='relu'),\n",
        "    tf.keras.layers.Dropout(0.5),\n",
        "    tf.keras.layers.Dense(4, activation='relu'),\n",
        "    tf.keras.layers.Dropout(0.5),\n",
        "    tf.keras.layers.BatchNormalization(),\n",
        "    tf.keras.layers.Dense(2,activation='softmax')\n",
        "])\n"
      ]
    },
    {
      "cell_type": "code",
      "source": [
        "lr = 1e-4\n",
        "model.compile(\n",
        "    optimizer = tf.keras.optimizers.Adam(learning_rate=lr),\n",
        "    loss ='categorical_crossentropy',\n",
        "    metrics = ['accuracy', tf.keras.metrics.AUC()],\n",
        ")\n",
        "model.build(input_shape = (None,96,96,3))\n",
        "model.summary()"
      ],
      "metadata": {
        "colab": {
          "base_uri": "https://localhost:8080/"
        },
        "id": "1Udd-AyMyFEC",
        "outputId": "346f5a06-294c-48ce-851a-be2aa6bb79ca"
      },
      "execution_count": 10,
      "outputs": [
        {
          "output_type": "stream",
          "name": "stdout",
          "text": [
            "Model: \"sequential\"\n",
            "_________________________________________________________________\n",
            " Layer (type)                Output Shape              Param #   \n",
            "=================================================================\n",
            " center_crop (CenterCrop)    (None, 32, 32, 3)         0         \n",
            "                                                                 \n",
            " vgg19 (Functional)          (None, 1, 1, 512)         20024384  \n",
            "                                                                 \n",
            " flatten (Flatten)           (None, 512)               0         \n",
            "                                                                 \n",
            " dense (Dense)               (None, 8)                 4104      \n",
            "                                                                 \n",
            " dropout (Dropout)           (None, 8)                 0         \n",
            "                                                                 \n",
            " dense_1 (Dense)             (None, 4)                 36        \n",
            "                                                                 \n",
            " dropout_1 (Dropout)         (None, 4)                 0         \n",
            "                                                                 \n",
            " batch_normalization (BatchN  (None, 4)                16        \n",
            " ormalization)                                                   \n",
            "                                                                 \n",
            " dense_2 (Dense)             (None, 2)                 10        \n",
            "                                                                 \n",
            "=================================================================\n",
            "Total params: 20,028,550\n",
            "Trainable params: 4,158\n",
            "Non-trainable params: 20,024,392\n",
            "_________________________________________________________________\n"
          ]
        }
      ]
    },
    {
      "cell_type": "code",
      "execution_count": 11,
      "metadata": {
        "colab": {
          "base_uri": "https://localhost:8080/"
        },
        "id": "mO8PERrFQwJD",
        "outputId": "ee0c1a5d-9061-4443-8ad0-c6381b9eef29"
      },
      "outputs": [
        {
          "output_type": "stream",
          "name": "stdout",
          "text": [
            "Epoch 1/50\n",
            "125/125 [==============================] - 2703s 22s/step - loss: 0.9414 - accuracy: 0.5128 - auc: 0.5346 - val_loss: 0.6171 - val_accuracy: 0.7160 - val_auc: 0.7852\n",
            "Epoch 2/50\n",
            "125/125 [==============================] - 32s 258ms/step - loss: 0.8272 - accuracy: 0.5421 - auc: 0.5679 - val_loss: 0.6401 - val_accuracy: 0.6180 - val_auc: 0.6845\n",
            "Epoch 3/50\n",
            "125/125 [==============================] - 31s 252ms/step - loss: 0.7554 - accuracy: 0.5673 - auc: 0.6105 - val_loss: 0.6322 - val_accuracy: 0.6340 - val_auc: 0.6987\n",
            "Epoch 4/50\n",
            "125/125 [==============================] - 32s 253ms/step - loss: 0.7204 - accuracy: 0.5692 - auc: 0.6183 - val_loss: 0.6015 - val_accuracy: 0.6830 - val_auc: 0.7521\n",
            "Epoch 5/50\n",
            "125/125 [==============================] - 32s 252ms/step - loss: 0.6984 - accuracy: 0.5785 - auc: 0.6281 - val_loss: 0.5910 - val_accuracy: 0.6890 - val_auc: 0.7675\n",
            "Epoch 6/50\n",
            "125/125 [==============================] - 32s 252ms/step - loss: 0.6872 - accuracy: 0.5867 - auc: 0.6448 - val_loss: 0.5776 - val_accuracy: 0.7030 - val_auc: 0.7923\n",
            "Epoch 7/50\n",
            "125/125 [==============================] - 32s 260ms/step - loss: 0.6791 - accuracy: 0.5864 - auc: 0.6388 - val_loss: 0.5726 - val_accuracy: 0.7130 - val_auc: 0.7997\n",
            "Epoch 8/50\n",
            "125/125 [==============================] - 32s 252ms/step - loss: 0.6763 - accuracy: 0.5901 - auc: 0.6523 - val_loss: 0.5688 - val_accuracy: 0.7190 - val_auc: 0.8052\n",
            "Epoch 9/50\n",
            "125/125 [==============================] - 31s 252ms/step - loss: 0.6616 - accuracy: 0.5895 - auc: 0.6477 - val_loss: 0.5725 - val_accuracy: 0.7220 - val_auc: 0.8055\n",
            "Epoch 10/50\n",
            "125/125 [==============================] - 31s 252ms/step - loss: 0.6556 - accuracy: 0.6036 - auc: 0.6647 - val_loss: 0.5673 - val_accuracy: 0.7260 - val_auc: 0.8123\n",
            "Epoch 11/50\n",
            "125/125 [==============================] - 32s 253ms/step - loss: 0.6578 - accuracy: 0.6070 - auc: 0.6703 - val_loss: 0.5627 - val_accuracy: 0.7400 - val_auc: 0.8114\n",
            "Epoch 12/50\n",
            "125/125 [==============================] - 31s 252ms/step - loss: 0.6522 - accuracy: 0.6114 - auc: 0.6751 - val_loss: 0.5664 - val_accuracy: 0.7390 - val_auc: 0.8115\n",
            "Epoch 13/50\n",
            "125/125 [==============================] - 31s 251ms/step - loss: 0.6528 - accuracy: 0.6223 - auc: 0.6814 - val_loss: 0.5614 - val_accuracy: 0.7380 - val_auc: 0.8054\n",
            "Epoch 14/50\n",
            "125/125 [==============================] - 32s 252ms/step - loss: 0.6478 - accuracy: 0.6212 - auc: 0.6854 - val_loss: 0.5633 - val_accuracy: 0.7370 - val_auc: 0.8074\n",
            "Epoch 15/50\n",
            "125/125 [==============================] - 31s 251ms/step - loss: 0.6435 - accuracy: 0.6204 - auc: 0.6873 - val_loss: 0.5688 - val_accuracy: 0.7420 - val_auc: 0.8029\n",
            "Epoch 16/50\n",
            "125/125 [==============================] - 31s 250ms/step - loss: 0.6485 - accuracy: 0.6106 - auc: 0.6781 - val_loss: 0.5643 - val_accuracy: 0.7430 - val_auc: 0.8008\n",
            "Epoch 17/50\n",
            "125/125 [==============================] - 32s 252ms/step - loss: 0.6478 - accuracy: 0.6246 - auc: 0.6886 - val_loss: 0.5619 - val_accuracy: 0.7420 - val_auc: 0.7989\n",
            "Epoch 18/50\n",
            "125/125 [==============================] - 31s 249ms/step - loss: 0.6436 - accuracy: 0.6154 - auc: 0.6841 - val_loss: 0.5653 - val_accuracy: 0.7430 - val_auc: 0.8004\n",
            "Epoch 19/50\n",
            "125/125 [==============================] - 31s 251ms/step - loss: 0.6458 - accuracy: 0.6066 - auc: 0.6755 - val_loss: 0.5676 - val_accuracy: 0.7450 - val_auc: 0.7987\n",
            "Epoch 20/50\n",
            "125/125 [==============================] - 31s 251ms/step - loss: 0.6392 - accuracy: 0.6087 - auc: 0.6856 - val_loss: 0.5655 - val_accuracy: 0.7420 - val_auc: 0.7956\n",
            "Epoch 21/50\n",
            "125/125 [==============================] - 32s 256ms/step - loss: 0.6359 - accuracy: 0.6115 - auc: 0.6825 - val_loss: 0.5658 - val_accuracy: 0.7340 - val_auc: 0.7875\n",
            "Epoch 22/50\n",
            "125/125 [==============================] - 32s 258ms/step - loss: 0.6426 - accuracy: 0.6135 - auc: 0.6828 - val_loss: 0.5648 - val_accuracy: 0.7370 - val_auc: 0.7964\n",
            "Epoch 23/50\n",
            "125/125 [==============================] - 31s 250ms/step - loss: 0.6298 - accuracy: 0.6216 - auc: 0.6936 - val_loss: 0.5640 - val_accuracy: 0.7350 - val_auc: 0.7894\n",
            "Epoch 24/50\n",
            "125/125 [==============================] - 31s 250ms/step - loss: 0.6388 - accuracy: 0.6155 - auc: 0.6855 - val_loss: 0.5671 - val_accuracy: 0.7390 - val_auc: 0.7961\n",
            "Epoch 25/50\n",
            "125/125 [==============================] - 31s 250ms/step - loss: 0.6287 - accuracy: 0.6127 - auc: 0.6874 - val_loss: 0.5640 - val_accuracy: 0.7360 - val_auc: 0.7900\n",
            "Epoch 26/50\n",
            "125/125 [==============================] - 31s 250ms/step - loss: 0.6400 - accuracy: 0.6191 - auc: 0.6893 - val_loss: 0.5652 - val_accuracy: 0.7430 - val_auc: 0.7950\n",
            "Epoch 27/50\n",
            "125/125 [==============================] - 31s 251ms/step - loss: 0.6367 - accuracy: 0.6174 - auc: 0.6886 - val_loss: 0.5659 - val_accuracy: 0.7440 - val_auc: 0.7917\n",
            "Epoch 28/50\n",
            "125/125 [==============================] - 31s 250ms/step - loss: 0.6324 - accuracy: 0.6233 - auc: 0.6956 - val_loss: 0.5643 - val_accuracy: 0.7390 - val_auc: 0.7905\n",
            "Epoch 29/50\n",
            "125/125 [==============================] - 31s 251ms/step - loss: 0.6332 - accuracy: 0.6150 - auc: 0.6893 - val_loss: 0.5667 - val_accuracy: 0.7380 - val_auc: 0.7911\n",
            "Epoch 30/50\n",
            "125/125 [==============================] - 31s 252ms/step - loss: 0.6261 - accuracy: 0.6237 - auc: 0.6974 - val_loss: 0.5661 - val_accuracy: 0.7420 - val_auc: 0.7938\n",
            "Epoch 31/50\n",
            "125/125 [==============================] - 33s 262ms/step - loss: 0.6288 - accuracy: 0.6212 - auc: 0.7001 - val_loss: 0.5647 - val_accuracy: 0.7470 - val_auc: 0.7987\n",
            "Epoch 32/50\n",
            "125/125 [==============================] - 32s 253ms/step - loss: 0.6259 - accuracy: 0.6260 - auc: 0.7023 - val_loss: 0.5659 - val_accuracy: 0.7470 - val_auc: 0.7980\n",
            "Epoch 33/50\n",
            "125/125 [==============================] - 31s 249ms/step - loss: 0.6306 - accuracy: 0.6332 - auc: 0.7005 - val_loss: 0.5639 - val_accuracy: 0.7330 - val_auc: 0.7922\n",
            "Epoch 34/50\n",
            "125/125 [==============================] - 31s 250ms/step - loss: 0.6240 - accuracy: 0.6241 - auc: 0.6993 - val_loss: 0.5658 - val_accuracy: 0.7500 - val_auc: 0.8025\n",
            "Epoch 35/50\n",
            "125/125 [==============================] - 31s 250ms/step - loss: 0.6363 - accuracy: 0.6173 - auc: 0.6889 - val_loss: 0.5673 - val_accuracy: 0.7540 - val_auc: 0.8022\n",
            "Epoch 36/50\n",
            "125/125 [==============================] - 31s 250ms/step - loss: 0.6306 - accuracy: 0.6105 - auc: 0.6826 - val_loss: 0.5650 - val_accuracy: 0.7360 - val_auc: 0.7914\n",
            "Epoch 37/50\n",
            "125/125 [==============================] - 31s 250ms/step - loss: 0.6278 - accuracy: 0.6190 - auc: 0.6941 - val_loss: 0.5663 - val_accuracy: 0.7490 - val_auc: 0.7973\n",
            "Epoch 38/50\n",
            "125/125 [==============================] - 32s 256ms/step - loss: 0.6294 - accuracy: 0.6229 - auc: 0.6972 - val_loss: 0.5643 - val_accuracy: 0.7460 - val_auc: 0.7931\n",
            "Epoch 39/50\n",
            "125/125 [==============================] - 31s 251ms/step - loss: 0.6319 - accuracy: 0.6099 - auc: 0.6884 - val_loss: 0.5673 - val_accuracy: 0.7470 - val_auc: 0.8008\n",
            "Epoch 40/50\n",
            "125/125 [==============================] - 32s 255ms/step - loss: 0.6301 - accuracy: 0.6301 - auc: 0.6982 - val_loss: 0.5682 - val_accuracy: 0.7480 - val_auc: 0.7940\n",
            "Epoch 41/50\n",
            "125/125 [==============================] - 31s 251ms/step - loss: 0.6238 - accuracy: 0.6291 - auc: 0.7016 - val_loss: 0.5681 - val_accuracy: 0.7470 - val_auc: 0.8029\n",
            "Epoch 42/50\n",
            "125/125 [==============================] - 31s 252ms/step - loss: 0.6239 - accuracy: 0.6121 - auc: 0.6889 - val_loss: 0.5653 - val_accuracy: 0.7350 - val_auc: 0.7956\n",
            "Epoch 43/50\n",
            "125/125 [==============================] - 31s 249ms/step - loss: 0.6331 - accuracy: 0.6244 - auc: 0.6968 - val_loss: 0.5635 - val_accuracy: 0.7350 - val_auc: 0.7945\n",
            "Epoch 44/50\n",
            "125/125 [==============================] - 31s 249ms/step - loss: 0.6252 - accuracy: 0.6311 - auc: 0.7036 - val_loss: 0.5636 - val_accuracy: 0.7490 - val_auc: 0.8045\n",
            "Epoch 45/50\n",
            "125/125 [==============================] - 31s 251ms/step - loss: 0.6256 - accuracy: 0.6352 - auc: 0.7073 - val_loss: 0.5643 - val_accuracy: 0.7470 - val_auc: 0.8015\n",
            "Epoch 46/50\n",
            "125/125 [==============================] - 31s 251ms/step - loss: 0.6237 - accuracy: 0.6267 - auc: 0.7004 - val_loss: 0.5651 - val_accuracy: 0.7530 - val_auc: 0.7995\n",
            "Epoch 47/50\n",
            "125/125 [==============================] - 31s 251ms/step - loss: 0.6214 - accuracy: 0.6201 - auc: 0.6975 - val_loss: 0.5681 - val_accuracy: 0.7490 - val_auc: 0.8002\n",
            "Epoch 48/50\n",
            "125/125 [==============================] - 32s 254ms/step - loss: 0.6223 - accuracy: 0.6236 - auc: 0.6991 - val_loss: 0.5625 - val_accuracy: 0.7480 - val_auc: 0.7988\n",
            "Epoch 49/50\n",
            "125/125 [==============================] - 31s 251ms/step - loss: 0.6195 - accuracy: 0.6275 - auc: 0.7020 - val_loss: 0.5647 - val_accuracy: 0.7650 - val_auc: 0.8091\n",
            "Epoch 50/50\n",
            "125/125 [==============================] - 32s 256ms/step - loss: 0.6224 - accuracy: 0.6274 - auc: 0.7043 - val_loss: 0.5645 - val_accuracy: 0.7530 - val_auc: 0.8040\n"
          ]
        }
      ],
      "source": [
        "TR_STEPS = len(train_loader)\n",
        "VA_STEPS = len(val_loader)\n",
        "epochs = 50\n",
        "history = model.fit(\n",
        "    x = train_loader,\n",
        "    steps_per_epoch = TR_STEPS,\n",
        "    validation_data = val_loader,\n",
        "    validation_steps = VA_STEPS,\n",
        "    verbose = 1,\n",
        "    epochs=epochs\n",
        ")"
      ]
    },
    {
      "cell_type": "code",
      "source": [
        "model.evaluate(test_loader)"
      ],
      "metadata": {
        "colab": {
          "base_uri": "https://localhost:8080/"
        },
        "id": "iIFK6MF0D2CU",
        "outputId": "5e198284-8da4-4485-d957-ddba386077f0"
      },
      "execution_count": 12,
      "outputs": [
        {
          "output_type": "stream",
          "name": "stdout",
          "text": [
            "16/16 [==============================] - 294s 20s/step - loss: 0.5723 - accuracy: 0.7410 - auc: 0.7876\n"
          ]
        },
        {
          "output_type": "execute_result",
          "data": {
            "text/plain": [
              "[0.572319507598877, 0.7409999966621399, 0.7876184582710266]"
            ]
          },
          "metadata": {},
          "execution_count": 12
        }
      ]
    },
    {
      "cell_type": "code",
      "source": [
        "history_dict = history.history\n",
        "print(history_dict.keys())\n",
        "\n",
        "acc = history_dict['accuracy']\n",
        "val_acc = history_dict['val_accuracy']\n",
        "loss = history_dict['loss']\n",
        "val_loss = history_dict['val_loss']\n",
        "\n",
        "epochs = range(1, len(acc) + 1)\n",
        "fig = plt.figure(figsize=(10, 6))\n",
        "fig.tight_layout()\n",
        "\n",
        "plt.subplot(2, 1, 1)\n",
        "# r is for \"solid red line\"\n",
        "plt.plot(epochs, loss, 'r', label='Training loss')\n",
        "# b is for \"solid blue line\"\n",
        "plt.plot(epochs, val_loss, 'b', label='Validation loss')\n",
        "plt.title('Training and validation loss')\n",
        "# plt.xlabel('Epochs')\n",
        "plt.ylabel('Loss')\n",
        "plt.legend()\n",
        "\n",
        "plt.subplot(2, 1, 2)\n",
        "plt.plot(epochs, acc, 'r', label='Training acc')\n",
        "plt.plot(epochs, val_acc, 'b', label='Validation acc')\n",
        "plt.title('Training and validation accuracy')\n",
        "plt.xlabel('Epochs')\n",
        "plt.ylabel('Accuracy')\n",
        "plt.legend(loc='lower right')"
      ],
      "metadata": {
        "id": "EFHwUL_EP9Kl",
        "colab": {
          "base_uri": "https://localhost:8080/",
          "height": 439
        },
        "outputId": "1b73de8b-9e33-4da2-fef1-f675038c59e8"
      },
      "execution_count": 13,
      "outputs": [
        {
          "output_type": "stream",
          "name": "stdout",
          "text": [
            "dict_keys(['loss', 'accuracy', 'auc', 'val_loss', 'val_accuracy', 'val_auc'])\n"
          ]
        },
        {
          "output_type": "execute_result",
          "data": {
            "text/plain": [
              "<matplotlib.legend.Legend at 0x7fa8daf6c310>"
            ]
          },
          "metadata": {},
          "execution_count": 13
        },
        {
          "output_type": "display_data",
          "data": {
            "text/plain": [
              "<Figure size 720x432 with 2 Axes>"
            ],
            "image/png": "[encoded data removed]"
          },
          "metadata": {
            "needs_background": "light"
          }
        }
      ]
    },
    {
      "cell_type": "code",
      "source": [
        "model.save('/content/drive/MyDrive/376_project/vgg19_crop/')"
      ],
      "metadata": {
        "colab": {
          "base_uri": "https://localhost:8080/"
        },
        "id": "awoYtqQrAKad",
        "outputId": "e4e783e6-11f8-403b-93d6-4682bc36f35c"
      },
      "execution_count": 14,
      "outputs": [
        {
          "output_type": "stream",
          "name": "stdout",
          "text": [
            "INFO:tensorflow:Assets written to: /content/drive/MyDrive/376_project/vgg19_no_crop/assets\n"
          ]
        }
      ]
    },
    {
      "cell_type": "code",
      "source": [
        "model = tf.keras.models.load_model('/content/drive/MyDrive/376_project/vgg19_crop/')\n",
        "model.evaluate(test_loader)"
      ],
      "metadata": {
        "colab": {
          "base_uri": "https://localhost:8080/"
        },
        "id": "JtB-KgISATw5",
        "outputId": "3ffa71cc-b938-4e0b-a341-4ee0c81db440"
      },
      "execution_count": 16,
      "outputs": [
        {
          "output_type": "stream",
          "name": "stdout",
          "text": [
            "16/16 [==============================] - 2s 108ms/step - loss: 0.5723 - accuracy: 0.7410 - auc: 0.7876\n"
          ]
        },
        {
          "output_type": "execute_result",
          "data": {
            "text/plain": [
              "[0.572319507598877, 0.7409999966621399, 0.7876184582710266]"
            ]
          },
          "metadata": {},
          "execution_count": 16
        }
      ]
    }
  ],
  "metadata": {
    "accelerator": "GPU",
    "colab": {
      "collapsed_sections": [],
      "name": " VGG19_cancer_crop.ipynb",
      "provenance": []
    },
    "kernelspec": {
      "display_name": "Python 3",
      "name": "python3"
    },
    "language_info": {
      "name": "python"
    }
  },
  "nbformat": 4,
  "nbformat_minor": 0
}